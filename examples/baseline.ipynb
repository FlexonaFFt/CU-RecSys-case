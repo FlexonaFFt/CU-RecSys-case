{
 "cells": [
  {
   "cell_type": "markdown",
   "id": "8171b7c4-3a64-44db-b4bb-db7374c13154",
   "metadata": {},
   "source": [
    "Бейзлайн. Можно использовать как шаблон."
   ]
  },
  {
   "cell_type": "markdown",
   "id": "1f95381c-086e-4485-bc1d-1f2deff9dfda",
   "metadata": {},
   "source": [
    "# Импорты и библиотеки"
   ]
  },
  {
   "cell_type": "code",
   "execution_count": 3,
   "id": "6275d406-988e-4c90-9a2b-7ae23a498aa0",
   "metadata": {},
   "outputs": [
    {
     "name": "stdout",
     "output_type": "stream",
     "text": [
      "\n",
      "\u001b[1m[\u001b[0m\u001b[34;49mnotice\u001b[0m\u001b[1;39;49m]\u001b[0m\u001b[39;49m A new release of pip is available: \u001b[0m\u001b[31;49m24.0\u001b[0m\u001b[39;49m -> \u001b[0m\u001b[32;49m25.2\u001b[0m\n",
      "\u001b[1m[\u001b[0m\u001b[34;49mnotice\u001b[0m\u001b[1;39;49m]\u001b[0m\u001b[39;49m To update, run: \u001b[0m\u001b[32;49mpython3.10 -m pip install --upgrade pip\u001b[0m\n"
     ]
    }
   ],
   "source": [
    "!pip install -q polars tqdm scikit-learn"
   ]
  },
  {
   "cell_type": "code",
   "execution_count": 301,
   "id": "2aa2e91a-77a4-4a12-ac64-1cb0ca5b7f92",
   "metadata": {},
   "outputs": [],
   "source": [
    "import pandas as pd\n",
    "import polars as pl\n",
    "import numpy as np\n",
    "import typing as t\n",
    "import matplotlib.pyplot as plt\n",
    "from abc import ABC, abstractmethod\n",
    "from tqdm.notebook import tqdm\n",
    "from IPython.display import HTML\n",
    "from dataclasses import dataclass\n",
    "from sklearn.feature_extraction.text import CountVectorizer\n",
    "from sklearn.preprocessing import normalize\n",
    "\n",
    "\n",
    "def dataframe_to_html(df: pl.DataFrame, columns: list) -> str:\n",
    "    \"\"\"\n",
    "    Convert a Polars DataFrame to an HTML table with specified columns.\n",
    "\n",
    "    Args:\n",
    "        df: Polars DataFrame containing the data.\n",
    "        columns: List of column names to include in the HTML table.\n",
    "\n",
    "    Returns:\n",
    "        str: HTML string representing the table.\n",
    "    \"\"\"\n",
    "    html = [\"<table border='1'>\"]\n",
    "\n",
    "    html.append(\"<tr>\")\n",
    "    for col in columns:\n",
    "        html.append(f\"<th>{col}</th>\")\n",
    "    html.append(\"</tr>\")\n",
    "\n",
    "    for row in df.iter_rows(named=True):\n",
    "        html.append(\"<tr>\")\n",
    "        for col in columns:\n",
    "            value = row[col]\n",
    "            if col == \"image_url\":\n",
    "                html.append(f\"<td><img src='{value}' width='100' /></td>\")\n",
    "            else:\n",
    "                html.append(f\"<td>{value}</td>\")\n",
    "        html.append(\"</tr>\")\n",
    "\n",
    "    html.append(\"</table>\")\n",
    "    return \"\\n\".join(html)\n"
   ]
  },
  {
   "cell_type": "markdown",
   "id": "10bd459d-3f0b-44d7-8a45-4e324ff7a1ed",
   "metadata": {},
   "source": [
    "# Посмотрим на данные "
   ]
  },
  {
   "cell_type": "markdown",
   "id": "8b89fa61-bd81-4b72-b53f-e034aeaf812c",
   "metadata": {},
   "source": [
    "Более подробный обзор данных можно (но не обязательно нужно) найти [по ссылке](https://github.com/MengtingWan/goodreads/tree/master?tab=readme-ov-file)."
   ]
  },
  {
   "cell_type": "code",
   "execution_count": 302,
   "id": "c904902e-1ed4-4980-8572-54efe0919a23",
   "metadata": {},
   "outputs": [],
   "source": [
    "data_folder = \"data/\""
   ]
  },
  {
   "cell_type": "markdown",
   "id": "ac3978d5-6003-4962-a0f1-3be36cae3fb5",
   "metadata": {},
   "source": [
    "**Train**\n",
    "* `user_id` - уникальный идентификатор пользователя\n",
    "* `item_id` - уникальный идентификатор книги\n",
    "* `is_read` - прочитал ли пользователь книгу или только добавил в избранное\n",
    "* `rating` - рейтинг, поставленный книге пользователем (0, если пользователь не оставил рейтинг)\n",
    "* `date_added` - дата добавления книги в избранное"
   ]
  },
  {
   "cell_type": "code",
   "execution_count": 303,
   "id": "45796fb4-e97a-46c0-87a5-6f4d9e04ca25",
   "metadata": {},
   "outputs": [
    {
     "name": "stdout",
     "output_type": "stream",
     "text": [
      "Train:\n",
      "(11971437, 5)\n"
     ]
    },
    {
     "data": {
      "text/html": [
       "<div><style>\n",
       ".dataframe > thead > tr,\n",
       ".dataframe > tbody > tr {\n",
       "  text-align: right;\n",
       "  white-space: pre-wrap;\n",
       "}\n",
       "</style>\n",
       "<small>shape: (5, 5)</small><table border=\"1\" class=\"dataframe\"><thead><tr><th>user_id</th><th>item_id</th><th>is_read</th><th>rating</th><th>date_added</th></tr><tr><td>str</td><td>i64</td><td>bool</td><td>i64</td><td>datetime[μs]</td></tr></thead><tbody><tr><td>&quot;90998a29029ecb1fbeedaff2b71752…</td><td>8473</td><td>false</td><td>0</td><td>2014-05-15 12:51:13</td></tr><tr><td>&quot;90998a29029ecb1fbeedaff2b71752…</td><td>20060</td><td>false</td><td>0</td><td>2014-05-15 12:51:14</td></tr><tr><td>&quot;90998a29029ecb1fbeedaff2b71752…</td><td>8354</td><td>false</td><td>0</td><td>2014-05-15 12:51:17</td></tr><tr><td>&quot;90998a29029ecb1fbeedaff2b71752…</td><td>11575</td><td>false</td><td>0</td><td>2014-05-15 12:51:19</td></tr><tr><td>&quot;90998a29029ecb1fbeedaff2b71752…</td><td>11861</td><td>false</td><td>0</td><td>2014-05-15 12:51:20</td></tr></tbody></table></div>"
      ],
      "text/plain": [
       "shape: (5, 5)\n",
       "┌─────────────────────────────────┬─────────┬─────────┬────────┬─────────────────────┐\n",
       "│ user_id                         ┆ item_id ┆ is_read ┆ rating ┆ date_added          │\n",
       "│ ---                             ┆ ---     ┆ ---     ┆ ---    ┆ ---                 │\n",
       "│ str                             ┆ i64     ┆ bool    ┆ i64    ┆ datetime[μs]        │\n",
       "╞═════════════════════════════════╪═════════╪═════════╪════════╪═════════════════════╡\n",
       "│ 90998a29029ecb1fbeedaff2b71752… ┆ 8473    ┆ false   ┆ 0      ┆ 2014-05-15 12:51:13 │\n",
       "│ 90998a29029ecb1fbeedaff2b71752… ┆ 20060   ┆ false   ┆ 0      ┆ 2014-05-15 12:51:14 │\n",
       "│ 90998a29029ecb1fbeedaff2b71752… ┆ 8354    ┆ false   ┆ 0      ┆ 2014-05-15 12:51:17 │\n",
       "│ 90998a29029ecb1fbeedaff2b71752… ┆ 11575   ┆ false   ┆ 0      ┆ 2014-05-15 12:51:19 │\n",
       "│ 90998a29029ecb1fbeedaff2b71752… ┆ 11861   ┆ false   ┆ 0      ┆ 2014-05-15 12:51:20 │\n",
       "└─────────────────────────────────┴─────────┴─────────┴────────┴─────────────────────┘"
      ]
     },
     "metadata": {},
     "output_type": "display_data"
    }
   ],
   "source": [
    "train = pl.read_parquet(data_folder + \"train.pq\")\n",
    "print(\"Train:\")\n",
    "print(train.shape)\n",
    "display(train.head(5))"
   ]
  },
  {
   "cell_type": "markdown",
   "id": "94d3714d-50aa-43e3-b288-59f5dd7e38fb",
   "metadata": {},
   "source": [
    "**Test**\n",
    "* `user_id` - уникальный идентификатор пользователя\n",
    "* `item_id` - список уникальных идентификатор книг, с которыми пользователь провзаимодействовал в течение тестового периода, отсортированный по релевантности "
   ]
  },
  {
   "cell_type": "code",
   "execution_count": 304,
   "id": "b38b4b4a-ce12-4ef3-af0c-5c63eb9fa68f",
   "metadata": {},
   "outputs": [
    {
     "name": "stdout",
     "output_type": "stream",
     "text": [
      "Test:\n",
      "(185828, 2)\n"
     ]
    },
    {
     "data": {
      "text/html": [
       "<div><style>\n",
       ".dataframe > thead > tr,\n",
       ".dataframe > tbody > tr {\n",
       "  text-align: right;\n",
       "  white-space: pre-wrap;\n",
       "}\n",
       "</style>\n",
       "<small>shape: (5, 2)</small><table border=\"1\" class=\"dataframe\"><thead><tr><th>user_id</th><th>item_id</th></tr><tr><td>str</td><td>list[i64]</td></tr></thead><tbody><tr><td>&quot;00000377eea48021d3002730d56aca…</td><td>[13252]</td></tr><tr><td>&quot;00009ab2ed8cbfceda5a59da409663…</td><td>[2328]</td></tr><tr><td>&quot;00009e46d18f223a82b22da38586b6…</td><td>[28636, 30197]</td></tr><tr><td>&quot;0001085188e302fc6b2568de45a5f5…</td><td>[2159, 2969, … 33630]</td></tr><tr><td>&quot;00014c578111090720e20f5705eba0…</td><td>[45, 3513, … 33273]</td></tr></tbody></table></div>"
      ],
      "text/plain": [
       "shape: (5, 2)\n",
       "┌─────────────────────────────────┬───────────────────────┐\n",
       "│ user_id                         ┆ item_id               │\n",
       "│ ---                             ┆ ---                   │\n",
       "│ str                             ┆ list[i64]             │\n",
       "╞═════════════════════════════════╪═══════════════════════╡\n",
       "│ 00000377eea48021d3002730d56aca… ┆ [13252]               │\n",
       "│ 00009ab2ed8cbfceda5a59da409663… ┆ [2328]                │\n",
       "│ 00009e46d18f223a82b22da38586b6… ┆ [28636, 30197]        │\n",
       "│ 0001085188e302fc6b2568de45a5f5… ┆ [2159, 2969, … 33630] │\n",
       "│ 00014c578111090720e20f5705eba0… ┆ [45, 3513, … 33273]   │\n",
       "└─────────────────────────────────┴───────────────────────┘"
      ]
     },
     "metadata": {},
     "output_type": "display_data"
    }
   ],
   "source": [
    "test_exploded = pl.read_parquet(data_folder + \"test.pq\")\n",
    "test = test_exploded.group_by(\"user_id\", maintain_order=True).agg(pl.col(\"item_id\"))\n",
    "print(\"Test:\")\n",
    "print(test.shape)\n",
    "display(test.head(5))"
   ]
  },
  {
   "cell_type": "code",
   "execution_count": 305,
   "id": "20f3ba7f-0538-4008-9820-8734885ef3b7",
   "metadata": {},
   "outputs": [
    {
     "data": {
      "text/plain": [
       "0"
      ]
     },
     "execution_count": 305,
     "metadata": {},
     "output_type": "execute_result"
    }
   ],
   "source": [
    "# в тесте нет холодных пользователей\n",
    "len(set(test[\"user_id\"].to_list()) - set(train[\"user_id\"].to_list()))"
   ]
  },
  {
   "cell_type": "code",
   "execution_count": 306,
   "id": "c65c2975-2bfe-430f-bb67-118a1136a40c",
   "metadata": {},
   "outputs": [
    {
     "data": {
      "text/plain": [
       "1775"
      ]
     },
     "execution_count": 306,
     "metadata": {},
     "output_type": "execute_result"
    }
   ],
   "source": [
    "# но есть холодные айтемы\n",
    "len(set(test_exploded[\"item_id\"].to_list()) - set(train[\"item_id\"].to_list()))"
   ]
  },
  {
   "cell_type": "markdown",
   "id": "926a5692-88f8-4b94-9ca0-a507dfa32d5d",
   "metadata": {},
   "source": [
    "**Books**\n",
    "* `item_id` - уникальный идентификатор книги\n",
    "* `series` - если книга является частью серии, то это список идентификаторов серии\n",
    "* `tags` - список проставленных пользователями тегов\n",
    "* `title` - название книги\n",
    "* `description` - описание книги\n",
    "* `url` - ссылка на книгу на Goodreads\n",
    "* `image_url` - обложка книги\n",
    "* `authors` - список авторов книги в формате пар (автор, роль)"
   ]
  },
  {
   "cell_type": "code",
   "execution_count": 307,
   "id": "01064496-8683-4578-9eff-be2d8bd9caa9",
   "metadata": {},
   "outputs": [
    {
     "name": "stdout",
     "output_type": "stream",
     "text": [
      "Books:\n",
      "(34322, 8)\n"
     ]
    },
    {
     "data": {
      "text/html": [
       "<div><style>\n",
       ".dataframe > thead > tr,\n",
       ".dataframe > tbody > tr {\n",
       "  text-align: right;\n",
       "  white-space: pre-wrap;\n",
       "}\n",
       "</style>\n",
       "<small>shape: (5, 8)</small><table border=\"1\" class=\"dataframe\"><thead><tr><th>item_id</th><th>series</th><th>tags</th><th>title</th><th>description</th><th>url</th><th>image_url</th><th>authors</th></tr><tr><td>i64</td><td>list[str]</td><td>list[str]</td><td>str</td><td>str</td><td>str</td><td>str</td><td>list[struct[2]]</td></tr></thead><tbody><tr><td>0</td><td>[null]</td><td>[&quot;e-book&quot;, &quot;young-adult&quot;, … &quot;y-a&quot;]</td><td>&quot;Hallie Hath No Fury . . .&quot;</td><td>&quot;There are two sides to every s…</td><td>&quot;https://www.goodreads.com/book…</td><td>&quot;https://images.gr-assets.com/b…</td><td>[{&quot;1879494&quot;,&quot;&quot;}]</td></tr><tr><td>1</td><td>[&quot;149079&quot;]</td><td>[&quot;primary&quot;, &quot;melissa-j--morgan&quot;, … &quot;fiction&quot;]</td><td>&quot;Hide and Shriek: Super Special…</td><td>&quot;The girls go on an overnight a…</td><td>&quot;https://www.goodreads.com/book…</td><td>&quot;https://s.gr-assets.com/assets…</td><td>[{&quot;21740&quot;,&quot;&quot;}]</td></tr><tr><td>2</td><td>[null]</td><td>[&quot;friendship&quot;, &quot;middle-reader&quot;, … &quot;my-library&quot;]</td><td>&quot;Dear Mom, You&#x27;re Ruining My Li…</td><td>&quot;Samantha Slayton worries about…</td><td>&quot;https://www.goodreads.com/book…</td><td>&quot;https://s.gr-assets.com/assets…</td><td>[{&quot;18946&quot;,&quot;&quot;}]</td></tr><tr><td>3</td><td>[&quot;151088&quot;]</td><td>[&quot;summer-2017&quot;, &quot;bullying&quot;, … &quot;re-read&quot;]</td><td>&quot;Bratfest at Tiffany&#x27;s (Clique …</td><td>&quot;Massie Block: The Briarwood bo…</td><td>&quot;https://www.goodreads.com/book…</td><td>&quot;https://images.gr-assets.com/b…</td><td>[{&quot;4605&quot;,&quot;&quot;}]</td></tr><tr><td>4</td><td>[&quot;812067&quot;]</td><td>[&quot;rosemary-vernon&quot;, &quot;young-adult&quot;, … &quot;to-read&quot;]</td><td>&quot;Questions of Love (Sweet Dream…</td><td>&quot;When Sammi Edwards is chosen t…</td><td>&quot;https://www.goodreads.com/book…</td><td>&quot;https://images.gr-assets.com/b…</td><td>[{&quot;792676&quot;,&quot;&quot;}]</td></tr></tbody></table></div>"
      ],
      "text/plain": [
       "shape: (5, 8)\n",
       "┌─────────┬────────────┬────────────┬────────────┬────────────┬────────────┬───────────┬───────────┐\n",
       "│ item_id ┆ series     ┆ tags       ┆ title      ┆ descriptio ┆ url        ┆ image_url ┆ authors   │\n",
       "│ ---     ┆ ---        ┆ ---        ┆ ---        ┆ n          ┆ ---        ┆ ---       ┆ ---       │\n",
       "│ i64     ┆ list[str]  ┆ list[str]  ┆ str        ┆ ---        ┆ str        ┆ str       ┆ list[stru │\n",
       "│         ┆            ┆            ┆            ┆ str        ┆            ┆           ┆ ct[2]]    │\n",
       "╞═════════╪════════════╪════════════╪════════════╪════════════╪════════════╪═══════════╪═══════════╡\n",
       "│ 0       ┆ [null]     ┆ [\"e-book\", ┆ Hallie     ┆ There are  ┆ https://ww ┆ https://i ┆ [{\"187949 │\n",
       "│         ┆            ┆ \"young-adu ┆ Hath No    ┆ two sides  ┆ w.goodread ┆ mages.gr- ┆ 4\",\"\"}]   │\n",
       "│         ┆            ┆ lt\", … \"y… ┆ Fury . . . ┆ to every   ┆ s.com/book ┆ assets.co ┆           │\n",
       "│         ┆            ┆            ┆            ┆ s…         ┆ …          ┆ m/b…      ┆           │\n",
       "│ 1       ┆ [\"149079\"] ┆ [\"primary\" ┆ Hide and   ┆ The girls  ┆ https://ww ┆ https://s ┆ [{\"21740\" │\n",
       "│         ┆            ┆ , \"melissa ┆ Shriek:    ┆ go on an   ┆ w.goodread ┆ .gr-asset ┆ ,\"\"}]     │\n",
       "│         ┆            ┆ -j--morgan ┆ Super      ┆ overnight  ┆ s.com/book ┆ s.com/ass ┆           │\n",
       "│         ┆            ┆ …          ┆ Special…   ┆ a…         ┆ …          ┆ ets…      ┆           │\n",
       "│ 2       ┆ [null]     ┆ [\"friendsh ┆ Dear Mom,  ┆ Samantha   ┆ https://ww ┆ https://s ┆ [{\"18946\" │\n",
       "│         ┆            ┆ ip\", \"midd ┆ You're     ┆ Slayton    ┆ w.goodread ┆ .gr-asset ┆ ,\"\"}]     │\n",
       "│         ┆            ┆ le-reader\" ┆ Ruining My ┆ worries    ┆ s.com/book ┆ s.com/ass ┆           │\n",
       "│         ┆            ┆ …          ┆ Li…        ┆ about…     ┆ …          ┆ ets…      ┆           │\n",
       "│ 3       ┆ [\"151088\"] ┆ [\"summer-2 ┆ Bratfest   ┆ Massie     ┆ https://ww ┆ https://i ┆ [{\"4605\", │\n",
       "│         ┆            ┆ 017\", \"bul ┆ at         ┆ Block: The ┆ w.goodread ┆ mages.gr- ┆ \"\"}]      │\n",
       "│         ┆            ┆ lying\", …  ┆ Tiffany's  ┆ Briarwood  ┆ s.com/book ┆ assets.co ┆           │\n",
       "│         ┆            ┆ …          ┆ (Clique …  ┆ bo…        ┆ …          ┆ m/b…      ┆           │\n",
       "│ 4       ┆ [\"812067\"] ┆ [\"rosemary ┆ Questions  ┆ When Sammi ┆ https://ww ┆ https://i ┆ [{\"792676 │\n",
       "│         ┆            ┆ -vernon\",  ┆ of Love    ┆ Edwards is ┆ w.goodread ┆ mages.gr- ┆ \",\"\"}]    │\n",
       "│         ┆            ┆ \"young-adu ┆ (Sweet     ┆ chosen t…  ┆ s.com/book ┆ assets.co ┆           │\n",
       "│         ┆            ┆ …          ┆ Dream…     ┆            ┆ …          ┆ m/b…      ┆           │\n",
       "└─────────┴────────────┴────────────┴────────────┴────────────┴────────────┴───────────┴───────────┘"
      ]
     },
     "metadata": {},
     "output_type": "display_data"
    }
   ],
   "source": [
    "books = pl.read_parquet(data_folder + \"books.pq\")\n",
    "print(\"Books:\")\n",
    "print(books.shape)\n",
    "display(books.head(5))"
   ]
  },
  {
   "cell_type": "markdown",
   "id": "5d30e67b-3c07-4b90-899f-86ce538eff32",
   "metadata": {},
   "source": [
    "Взглянем на пару книг"
   ]
  },
  {
   "cell_type": "code",
   "execution_count": 308,
   "id": "df9e6199-5e17-4267-a9c3-b2941e161a44",
   "metadata": {},
   "outputs": [
    {
     "data": {
      "text/html": [
       "<table border='1'>\n",
       "<tr>\n",
       "<th>item_id</th>\n",
       "<th>title</th>\n",
       "<th>description</th>\n",
       "<th>image_url</th>\n",
       "</tr>\n",
       "<tr>\n",
       "<td>12062</td>\n",
       "<td>Deadgirl: Ghostlight</td>\n",
       "<td>Transformed into a \"phantom\" by her own titanic will to live, Lucy must feed on the essence, memories, and emotions of others to keep herself solid. After defeating her Grim Reaper and learning that she could survive without hurting people, Lucy thought the madness was finally over.\n",
       "Her cravings for essence under control, Lucy tries to live a normal life. Apparently you have to be alive for that to work, though, as Lucy learns that one of her friends is more than she appears. She insists that Lucy, with her ghostly abilities and tentative immortality, can join her in the fight to help those in need.\n",
       "Thrust into the role of teenage savior, Lucy Day finds herself battling a pack of voyeuristic serial killers, a mysterious and deadly wraith, and the idea that she might actually have to start dating again sometime this century.</td>\n",
       "<td><img src='https://images.gr-assets.com/books/1453468077m/28673213.jpg' width='100' /></td>\n",
       "</tr>\n",
       "<tr>\n",
       "<td>7255</td>\n",
       "<td>Ritual (Vampire Beach, #3)</td>\n",
       "<td>The A-list bites.Jason Freeman has gotten used to the fact that beneath its glamorous surface, DeVere Heights is full of unexpected secrets. And vampires. Then just when he thinks he's golden, he's attacked. With a crossbow. \n",
       "At first the attention Jason gets from his crush, Sienna, makes the wound almost worthwhile -- especially after she breaks up with Brad. But the crossbow-wielding lunatic isn't finished, and his next victim is found dead with a bolt through the heart. \n",
       "As tensions rise at DeVere High, suspicions about the attacker point to pretty much anyone. There's something cold and hard in Brad's eyes-the look of a killer? Nah....</td>\n",
       "<td><img src='https://s.gr-assets.com/assets/nophoto/book/111x148-bcc042a9c91a29c1d680899eff700a03.png' width='100' /></td>\n",
       "</tr>\n",
       "<tr>\n",
       "<td>13378</td>\n",
       "<td>Loose Lips (The Show, #2)</td>\n",
       "<td></td>\n",
       "<td><img src='https://s.gr-assets.com/assets/nophoto/book/111x148-bcc042a9c91a29c1d680899eff700a03.png' width='100' /></td>\n",
       "</tr>\n",
       "<tr>\n",
       "<td>32274</td>\n",
       "<td>Point Guard (Home Team, #3)</td>\n",
       "<td></td>\n",
       "<td><img src='https://s.gr-assets.com/assets/nophoto/book/111x148-bcc042a9c91a29c1d680899eff700a03.png' width='100' /></td>\n",
       "</tr>\n",
       "<tr>\n",
       "<td>15701</td>\n",
       "<td>Fourteen</td>\n",
       "<td>High school is hard enough when you do fit in, but if you don't look a certain way or have the right friends, you'd better hope you grow a thick skin to defend yourself from the ones that do. Arianna Weller and Evan Drake are worlds apart, moving in different circles until they are forced together for a science fair project. Putting aside their differences from the past is not easy for either of them, but can they do it long enough to realize that they're not that different after all?</td>\n",
       "<td><img src='https://s.gr-assets.com/assets/nophoto/book/111x148-bcc042a9c91a29c1d680899eff700a03.png' width='100' /></td>\n",
       "</tr>\n",
       "</table>"
      ],
      "text/plain": [
       "<IPython.core.display.HTML object>"
      ]
     },
     "execution_count": 308,
     "metadata": {},
     "output_type": "execute_result"
    }
   ],
   "source": [
    "HTML(dataframe_to_html(books.sample(5), [\"item_id\", \"title\", \"description\", \"image_url\"]))"
   ]
  },
  {
   "cell_type": "code",
   "execution_count": 309,
   "id": "f7152ab2-4f7e-4d5c-b1ea-5f220f013424",
   "metadata": {},
   "outputs": [
    {
     "name": "stdout",
     "output_type": "stream",
     "text": [
      "N books: 34322\n",
      "N 'cold' books: 3022\n"
     ]
    }
   ],
   "source": [
    "n_books = books.shape[0]\n",
    "print(f\"N books: {n_books}\")\n",
    "\n",
    "n_cold_books = n_books - train[\"item_id\"].n_unique()\n",
    "print(f\"N 'cold' books: {n_cold_books}\")"
   ]
  },
  {
   "cell_type": "markdown",
   "id": "86776d9f-a2d3-421a-8e23-d77bcf283ec8",
   "metadata": {},
   "source": [
    "# Пайплайн для экспериментов"
   ]
  },
  {
   "cell_type": "markdown",
   "id": "8074639d-94e1-4236-8ac3-c558dca01a24",
   "metadata": {},
   "source": [
    "## Валидация"
   ]
  },
  {
   "cell_type": "markdown",
   "id": "1391d4d9-6f5c-4cfc-a72b-02c1527731f6",
   "metadata": {},
   "source": [
    "Будем смотреть на две метрики качества: **NDCG** и **Recall**.  \n",
    "Обе метрики измеряются до какой-то позиции (@k), зафиксируем k=10. То есть мы оцениваем 10 самых подходящих пользователю айтемов по мнению модели.  \n",
    "\n",
    "* **NDCG** показывает, как модель справляется с задачей ранжирования, то есть ставит более релевантные айтемы выше менее релевантных\n",
    "* **Recall** показывает, как много релевантных айтемов модель выдаёт в топе (смысл как в задаче классификации)\n",
    "\n",
    "Также будем смотреть на метрику разнообразия **Coverage**.\n",
    "* **Coverage** показывает долю порекомендованных айтемов от всего каталога. Низкое значение метрики свидетельствует о том, что модель рекомендует всем одно и то же\n",
    "\n",
    "Для всех метрик лучше та, которая как можно ближе к **1.0**\n"
   ]
  },
  {
   "cell_type": "code",
   "execution_count": 310,
   "id": "0d95d8f3-3e4f-4bf7-9460-7828e1ee893e",
   "metadata": {},
   "outputs": [],
   "source": [
    "# ACHTUNG! DO NOT TOUCH\n",
    "\n",
    "@dataclass\n",
    "class AtKMetric(ABC):\n",
    "    k: int\n",
    "\n",
    "    @property\n",
    "    @abstractmethod\n",
    "    def name(self) -> str:\n",
    "        raise NotImplementedError\n",
    "\n",
    "    @property\n",
    "    def full_name(self) -> str:\n",
    "        return f\"{self.name}@{self.k}\"\n",
    "\n",
    "    @abstractmethod\n",
    "    def __call__(self, *, preds_col: str = \"preds\", ground_truth_col: str = \"ground_truth\") -> pl.Expr:\n",
    "        raise NotImplementedError\n",
    "\n",
    "\n",
    "class NDCG(AtKMetric):\n",
    "    @property\n",
    "    def name(self) -> str:\n",
    "        return \"ndcg\"\n",
    "\n",
    "    def __call__(self, *, preds_col: str = \"preds\", ground_truth_col: str = \"ground_truth\") -> pl.Expr:\n",
    "        def _dcg(scores: np.ndarray) -> float:\n",
    "            # Handle empty arrays\n",
    "            if len(scores) == 0:\n",
    "                return 0.0\n",
    "            # Use vectorized operations for better performance\n",
    "            positions = np.arange(1, len(scores) + 1, dtype=np.float64)\n",
    "            return np.sum((np.power(2, scores) - 1) / np.log2(positions + 1))\n",
    "\n",
    "        def ndcg(predicted: list[t.Any], gt_items: list[t.Any]) -> float:\n",
    "            # Handle empty predictions or ground truth\n",
    "            if not predicted or not gt_items:\n",
    "                return 0.0\n",
    "                \n",
    "            # Take only top-k predictions\n",
    "            predicted = predicted[:self.k]\n",
    "            \n",
    "            # Create relevance scores (1 for relevant items, 0 otherwise)\n",
    "            relevance = np.array([1 if x in gt_items else 0 for x in predicted], dtype=np.float64)\n",
    "            \n",
    "            rank_dcg = _dcg(relevance)\n",
    "            if rank_dcg == 0.0:\n",
    "                return 0.0\n",
    "                \n",
    "            # Ideal DCG: sort ground truth by relevance (all 1s) and take top-k\n",
    "            ideal_relevance = np.ones(min(len(gt_items), self.k), dtype=np.float64)\n",
    "            ideal_dcg = _dcg(ideal_relevance)\n",
    "            \n",
    "            if ideal_dcg == 0.0:\n",
    "                return 0.0\n",
    "                \n",
    "            return rank_dcg / ideal_dcg\n",
    "\n",
    "        return pl.struct([preds_col, ground_truth_col]).map_elements(\n",
    "            lambda x: ndcg(x[preds_col], x[ground_truth_col]),\n",
    "            return_dtype=pl.Float64\n",
    "        ).alias(self.full_name)\n",
    "\n",
    "\n",
    "class Recall(AtKMetric):\n",
    "    @property\n",
    "    def name(self) -> str:\n",
    "        return \"recall\"\n",
    "\n",
    "    def __call__(self, *, preds_col: str = \"preds\", ground_truth_col: str = \"ground_truth\") -> pl.Expr:\n",
    "        def recall(predicted: list[t.Any], gt_items: list[t.Any]) -> float:\n",
    "            # Handle empty ground truth\n",
    "            if not gt_items:\n",
    "                return 0.0\n",
    "                \n",
    "            # Take only top-k predictions\n",
    "            predicted = predicted[:self.k]\n",
    "            \n",
    "            # Calculate intersection\n",
    "            intersection = len(set(gt_items).intersection(set(predicted)))\n",
    "            return intersection / len(gt_items)\n",
    "\n",
    "        return pl.struct([preds_col, ground_truth_col]).map_elements(\n",
    "            lambda x: recall(x[preds_col], x[ground_truth_col]),\n",
    "            return_dtype=pl.Float64\n",
    "        ).alias(self.full_name)\n",
    "\n",
    "\n",
    "def coverage(df: pl.DataFrame, n_items_in_catalog: int, preds_col: str = \"preds\") -> float:\n",
    "    if n_items_in_catalog <= 0:\n",
    "        return 0.0\n",
    "        \n",
    "    unique_recommended = df.select(\n",
    "        pl.col(preds_col).explode().n_unique()\n",
    "    ).item()\n",
    "    return unique_recommended / n_items_in_catalog\n",
    "\n",
    "\n",
    "def evaluate_recommender(\n",
    "    df: pl.DataFrame,\n",
    "    model_preds_col: str,\n",
    "    ground_truth_col: str = \"item_id\",\n",
    "    n_items_in_catalog: int = n_books,\n",
    "    k: int = 10,\n",
    ") -> dict:\n",
    "    metrics = [\n",
    "        NDCG(k=k),\n",
    "        Recall(k=k),\n",
    "    ]\n",
    "    result = {}\n",
    "    \n",
    "    # Create a copy to avoid modifying the original dataframe\n",
    "    result_df = df.clone()\n",
    "    \n",
    "    for metric in metrics:\n",
    "        result_df = result_df.with_columns(\n",
    "            metric(preds_col=model_preds_col, ground_truth_col=ground_truth_col)\n",
    "        )\n",
    "        result[metric.full_name] = round(result_df.select(pl.col(metric.full_name).mean()).item(), 3)\n",
    "\n",
    "    if n_items_in_catalog is not None:\n",
    "        result[\"coverage\"] = round(coverage(result_df, n_items_in_catalog, preds_col=model_preds_col), 3)\n",
    "    \n",
    "    return result"
   ]
  },
  {
   "cell_type": "markdown",
   "id": "13d6ee4f-90e9-4dfc-bf8e-08c4d02adfc3",
   "metadata": {},
   "source": [
    "Посмотрим, какие метрики показала бы идеальная рекомендательная система.\n",
    "\n",
    "Кстати, как думаете, почему recall=0.8, а не 1.0? Здесь нет ошибки."
   ]
  },
  {
   "cell_type": "code",
   "execution_count": 311,
   "id": "27947f84-4fe3-43a1-873f-b5b0e7765929",
   "metadata": {},
   "outputs": [
    {
     "name": "stdout",
     "output_type": "stream",
     "text": [
      "CPU times: user 7.34 s, sys: 563 ms, total: 7.91 s\n",
      "Wall time: 7.14 s\n"
     ]
    },
    {
     "data": {
      "text/plain": [
       "{'ndcg@10': 1.0, 'recall@10': 0.812, 'coverage': 0.797}"
      ]
     },
     "execution_count": 311,
     "metadata": {},
     "output_type": "execute_result"
    }
   ],
   "source": [
    "%%time \n",
    "evaluate_recommender(df=test.with_columns(item_id_=pl.col(\"item_id\")), model_preds_col=\"item_id_\", ground_truth_col=\"item_id\")"
   ]
  },
  {
   "cell_type": "markdown",
   "id": "d4ed59c3-6f4f-4084-a1a8-28d492636f9a",
   "metadata": {},
   "source": [
    "Можно добавить и другие метрики качества, такие как MAP, HitRate, MRR, Precision, а также метрики разнообразия, например Diversity. Также полезно бывает варьировать k.\n",
    "\n",
    "Интересно почитать следующий [цикл статей](https://habr.com/ru/companies/ods/articles/750974/), где рассказывается о том, как оценивать рекомендательные системы, и почему оффлайн-метрики могут идти вразрез с бизнес-метриками."
   ]
  },
  {
   "cell_type": "markdown",
   "id": "8bfed1a3-0099-4623-b96f-f9672f07adde",
   "metadata": {},
   "source": [
    "## Базовый класс модели"
   ]
  },
  {
   "cell_type": "markdown",
   "id": "fa1c47ed-8e66-42c8-a548-6b9a3cce97db",
   "metadata": {},
   "source": [
    "Будет удобно проводить эксперименты, используя единый интерфейс."
   ]
  },
  {
   "cell_type": "code",
   "execution_count": 312,
   "id": "aa80c260-12f6-4f19-92d1-5622f319f564",
   "metadata": {},
   "outputs": [],
   "source": [
    "class BaseRecommender(ABC):\n",
    "    def __init__(self):\n",
    "        self.trained = False\n",
    "\n",
    "    @abstractmethod\n",
    "    def fit(self, df: pl.DataFrame, **kwargs) -> None:\n",
    "        # реализация может быть любой, никаких ограничений\n",
    "        # не забудьте про self.trained = True\n",
    "        self.trained = True\n",
    "\n",
    "    @abstractmethod\n",
    "    def predict(self, df: pl.DataFrame, topn: int = 10, **kwargs) -> list[np.ndarray]:\n",
    "        # реализация может быть любой, НО\n",
    "        # должен возвращаться список массивов из item_id, которые есть в `books`, чтобы корректно работал подсчет метрик\n",
    "        pass"
   ]
  },
  {
   "cell_type": "markdown",
   "id": "13d9a2a4-5a31-4d61-8a3b-f078acf625fc",
   "metadata": {},
   "source": [
    "## Бейзлайны"
   ]
  },
  {
   "cell_type": "markdown",
   "id": "7115b6e6-3115-41db-a584-85d08a31dce1",
   "metadata": {},
   "source": [
    "### Random"
   ]
  },
  {
   "cell_type": "markdown",
   "id": "554b1253-9b43-4b15-9328-158c6262ec55",
   "metadata": {},
   "source": [
    "Начнем с sanity checking бейзлайна в виде случайных рекомендаций. Ожидаемо получаем плохие метрики качества."
   ]
  },
  {
   "cell_type": "code",
   "execution_count": 313,
   "id": "f0821388-1843-468b-af0a-5b693a828fe7",
   "metadata": {},
   "outputs": [
    {
     "data": {
      "application/vnd.jupyter.widget-view+json": {
       "model_id": "f3dc3a7a2c4e443b9cb805664773c4b9",
       "version_major": 2,
       "version_minor": 0
      },
      "text/plain": [
       "  0%|          | 0/185828 [00:00<?, ?it/s]"
      ]
     },
     "metadata": {},
     "output_type": "display_data"
    },
    {
     "name": "stdout",
     "output_type": "stream",
     "text": [
      "shape: (5, 3)\n",
      "┌─────────────────────────────────┬───────────────────────┬─────────────────────────┐\n",
      "│ user_id                         ┆ item_id               ┆ random_recs             │\n",
      "│ ---                             ┆ ---                   ┆ ---                     │\n",
      "│ str                             ┆ list[i64]             ┆ array[i64, 10]          │\n",
      "╞═════════════════════════════════╪═══════════════════════╪═════════════════════════╡\n",
      "│ 00000377eea48021d3002730d56aca… ┆ [13252]               ┆ [27547, 4970, … 3248]   │\n",
      "│ 00009ab2ed8cbfceda5a59da409663… ┆ [2328]                ┆ [19675, 21568, … 3847]  │\n",
      "│ 00009e46d18f223a82b22da38586b6… ┆ [28636, 30197]        ┆ [30534, 9626, … 688]    │\n",
      "│ 0001085188e302fc6b2568de45a5f5… ┆ [2159, 2969, … 33630] ┆ [10852, 21325, … 29841] │\n",
      "│ 00014c578111090720e20f5705eba0… ┆ [45, 3513, … 33273]   ┆ [19799, 14240, … 11794] │\n",
      "└─────────────────────────────────┴───────────────────────┴─────────────────────────┘\n"
     ]
    },
    {
     "data": {
      "text/plain": [
       "{'ndcg@10': 0.001, 'recall@10': 0.0, 'coverage': 1.0}"
      ]
     },
     "execution_count": 313,
     "metadata": {},
     "output_type": "execute_result"
    }
   ],
   "source": [
    "class RandomRecommender:\n",
    "    def __init__(self):\n",
    "        self.trained = False\n",
    "        self.item_ids = None\n",
    "\n",
    "    def fit(self, df: pl.DataFrame, item_id_col: str = \"item_id\") -> None:\n",
    "        # сохраняем уникальные айтемы\n",
    "        self.item_ids = df[item_id_col].unique().to_numpy()\n",
    "        self.trained = True\n",
    "\n",
    "    def predict(self, df: pl.DataFrame, topn: int = 10) -> list[np.ndarray]:\n",
    "        assert self.trained\n",
    "        # случайно выбираем `topn` айтемов\n",
    "        preds = []\n",
    "        for _ in tqdm(range(len(df))):\n",
    "            preds.append(np.random.choice(self.item_ids, size=topn, replace=False))\n",
    "        return preds\n",
    "\n",
    "\n",
    "random_rec = RandomRecommender()\n",
    "random_rec.fit(books)  # выбираем из всего доступного каталога\n",
    "test = test.with_columns(\n",
    "    random_recs=pl.Series(random_rec.predict(test))\n",
    ")\n",
    "print(test.head())\n",
    "evaluate_recommender(df=test, model_preds_col=\"random_recs\")"
   ]
  },
  {
   "cell_type": "markdown",
   "id": "2915d553-5204-4d8c-9536-4ab2d94824c1",
   "metadata": {},
   "source": [
    "### TopPopular"
   ]
  },
  {
   "cell_type": "markdown",
   "id": "6655c4f5-6b06-4375-8899-271f6a5f3525",
   "metadata": {},
   "source": [
    "Попробуем классический алгоритм, который зачастую бывает сложно победить по оффлайн-метрикам. Он выбирает самые часто встречающиеся в тренировочных данных айтемы и рекомендует всем одно и то же."
   ]
  },
  {
   "cell_type": "code",
   "execution_count": 314,
   "id": "09f0aeaa-6239-4791-9497-a550b18f4044",
   "metadata": {},
   "outputs": [
    {
     "name": "stdout",
     "output_type": "stream",
     "text": [
      "shape: (5, 4)\n",
      "┌────────────────────────┬───────────────────────┬────────────────────────┬────────────────────────┐\n",
      "│ user_id                ┆ item_id               ┆ random_recs            ┆ toppopular_recs        │\n",
      "│ ---                    ┆ ---                   ┆ ---                    ┆ ---                    │\n",
      "│ str                    ┆ list[i64]             ┆ array[i64, 10]         ┆ array[i64, 10]         │\n",
      "╞════════════════════════╪═══════════════════════╪════════════════════════╪════════════════════════╡\n",
      "│ 00000377eea48021d30027 ┆ [13252]               ┆ [27547, 4970, … 3248]  ┆ [4058, 15514, … 13159] │\n",
      "│ 30d56aca…              ┆                       ┆                        ┆                        │\n",
      "│ 00009ab2ed8cbfceda5a59 ┆ [2328]                ┆ [19675, 21568, … 3847] ┆ [4058, 15514, … 13159] │\n",
      "│ da409663…              ┆                       ┆                        ┆                        │\n",
      "│ 00009e46d18f223a82b22d ┆ [28636, 30197]        ┆ [30534, 9626, … 688]   ┆ [4058, 15514, … 13159] │\n",
      "│ a38586b6…              ┆                       ┆                        ┆                        │\n",
      "│ 0001085188e302fc6b2568 ┆ [2159, 2969, … 33630] ┆ [10852, 21325, …       ┆ [4058, 15514, … 13159] │\n",
      "│ de45a5f5…              ┆                       ┆ 29841]                 ┆                        │\n",
      "│ 00014c578111090720e20f ┆ [45, 3513, … 33273]   ┆ [19799, 14240, …       ┆ [4058, 15514, … 13159] │\n",
      "│ 5705eba0…              ┆                       ┆ 11794]                 ┆                        │\n",
      "└────────────────────────┴───────────────────────┴────────────────────────┴────────────────────────┘\n"
     ]
    },
    {
     "data": {
      "text/plain": [
       "{'ndcg@10': 0.033, 'recall@10': 0.033, 'coverage': 0.0}"
      ]
     },
     "execution_count": 314,
     "metadata": {},
     "output_type": "execute_result"
    }
   ],
   "source": [
    "class TopPopular:\n",
    "    def __init__(self):\n",
    "        self.trained = False\n",
    "        self.recommendations = None\n",
    "\n",
    "    def fit(self, df: pl.DataFrame, item_id_col: str = \"item_id\") -> None:\n",
    "        # считаем популярность айтемов\n",
    "        self.recommendations = (\n",
    "            df.lazy()\n",
    "            .group_by(item_id_col)\n",
    "            .agg(count=pl.len())\n",
    "            .sort(\"count\", descending=True)\n",
    "            .collect()\n",
    "            [item_id_col]\n",
    "            .to_numpy()\n",
    "        )\n",
    "        self.trained = True\n",
    "\n",
    "    def predict(self, df: pl.DataFrame, topn: int = 10) -> list[np.ndarray]:\n",
    "        assert self.trained\n",
    "        # возвращаем для всех одно и то же\n",
    "        return [self.recommendations[:topn]] * len(df)\n",
    "\n",
    "\n",
    "toppop = TopPopular()\n",
    "toppop.fit(train)\n",
    "test = test.with_columns(\n",
    "    toppopular_recs=pl.Series(toppop.predict(test))\n",
    ")\n",
    "print(test.head())\n",
    "evaluate_recommender(df=test, model_preds_col=\"toppopular_recs\")"
   ]
  },
  {
   "cell_type": "markdown",
   "id": "3a210518-5c37-4b35-b1fd-b3024ac9d2c2",
   "metadata": {},
   "source": [
    "Метрики качества выросли! Интересно, cильно ли изменятся значения, если уменьшить k?"
   ]
  },
  {
   "cell_type": "code",
   "execution_count": 315,
   "id": "bcc0b57a-3d9d-4f75-80a1-0974d01466e2",
   "metadata": {},
   "outputs": [
    {
     "data": {
      "text/plain": [
       "{'ndcg@5': 0.028, 'recall@5': 0.019, 'coverage': 0.0}"
      ]
     },
     "execution_count": 315,
     "metadata": {},
     "output_type": "execute_result"
    }
   ],
   "source": [
    "evaluate_recommender(df=test, model_preds_col=\"toppopular_recs\", k=5)"
   ]
  },
  {
   "cell_type": "markdown",
   "id": "bf65bf28-0244-4cfd-89a7-dc6f32e7ffbe",
   "metadata": {},
   "source": [
    "Посмотрим на то, что же рекомендуется всем пользователям."
   ]
  },
  {
   "cell_type": "code",
   "execution_count": 316,
   "id": "63aed26c-78ab-42fe-bc23-9884e1b73b2d",
   "metadata": {},
   "outputs": [
    {
     "data": {
      "text/html": [
       "<table border='1'>\n",
       "<tr>\n",
       "<th>item_id</th>\n",
       "<th>title</th>\n",
       "<th>description</th>\n",
       "<th>image_url</th>\n",
       "</tr>\n",
       "<tr>\n",
       "<td>118</td>\n",
       "<td>Cinder (The Lunar Chronicles, #1)</td>\n",
       "<td>Sixteen-year-old Cinder is considered a technological mistake by most of society and a burden by her stepmother. Being cyborg does have its benefits, though: Cinder's brain interference has given her an uncanny ability to fix things (robots, hovers, her own malfunctioning parts), making her the best mechanic in New Beijing. This reputation brings Prince Kai himself to her weekly market booth, needing her to repair a broken android before the annual ball. He jokingly calls it \"a matter of national security,\" but Cinder suspects it's more serious than he's letting on.\n",
       "Although eager to impress the prince, Cinder's intentions are derailed when her younger stepsister, and only human friend, is infected with the fatal plague that's been devastating Earth for a decade. Blaming Cinder for her daughter's illness, Cinder's stepmother volunteers her body for plague research, an \"honor\" that no one has survived.\n",
       "But it doesn't take long for the scientists to discover something unusual about their new guinea pig. Something others would kill for.</td>\n",
       "<td><img src='https://images.gr-assets.com/books/1470056948m/11235712.jpg' width='100' /></td>\n",
       "</tr>\n",
       "<tr>\n",
       "<td>4058</td>\n",
       "<td>The Fault in Our Stars</td>\n",
       "<td>Despite the tumour-shrinking medical miracle that has bought her a few years, Hazel has never been anything but terminal, her final chapter inscribed upon diagnosis. But when a gorgeous plot twist named Augustus Waters suddenly appears at Cancer Kid Support Group, Hazel's story is about to be completely rewritten.\n",
       "Insightful, bold, irreverent, and raw, The Fault in Our Stars is award-winning author John Green's most ambitious and heartbreaking work yet, brilliantly exploring the funny, thrilling, and tragic business of being alive and in love.\n",
       "John Green is the best-selling author of Looking for Alaska; An Abundance of Katherines;Paper Towns; Will Grayson, Will Grayson.\n",
       "The reviewers say:\n",
       "'A novel of life and death and the people caught in between, The Fault in Our Stars is John Green at his best. You laugh, you cry, and then you come back for more.' Markus Zusak, bestselling and Printz Honor-winning author of The Book Thief\n",
       "'An electric portrait of young people who learn to live life with one foot in the grave. Filled with staccato bursts of humor and tragedy, The Fault in Our Stars takes a spin on universal themes-Will I be loved? Will I be remembered? Will I leave a mark on this world?-by dramatically raising the stakes for the characters who are asking.' Jodi Picoult, bestselling author of My Sister's Keeper and Sing You Home\n",
       "'John Green writes incredible, honest truths about the secret, weird hearts of human beings. He makes me laugh and gasp at the beauty of a sentence or the twist of a tale. He is one of the best writers alive and I am seething with envy of his talent.' E. Lockhart, National Book Award Finalist and Printz Honor-winning author of The Disreputable History of Frankie Landau Banks and The Boyfriend List</td>\n",
       "<td><img src='https://images.gr-assets.com/books/1355031398m/14424887.jpg' width='100' /></td>\n",
       "</tr>\n",
       "<tr>\n",
       "<td>13159</td>\n",
       "<td>The Maze Runner (Maze Runner, #1)</td>\n",
       "<td>Perfect for fans of Divergentand The Hunger Games,this special movie tie-in edition of the first book in the #1 New York Timesbestselling Maze Runner series, The Maze Runner, features an eight-page full-color insert with photos from the film and an exclusive fan sticker. The first and second books, The Maze Runnerand The Scorch Trials, are now major motion pictures featuring the star of MTV's Teen Wolf,Dylan O'Brien, as Thomas; Kaya Scodelario as Teresa; Aml Ameen as Alby; Will Poulter as Gally; and Thomas Brodie-Sangster as Newt! And look for James Dashner's newest novels, The Eye of Mindsand The Rule of Thoughts, the first two books in the Mortality Doctrine series.\n",
       "Nice to meet ya, shank. Welcome to the Glade.\n",
       "Outside the towering stone walls that surround the Glade is a limitless, ever-changing maze. It's the only way out--and no one's ever made it through alive.\n",
       "Everything is going to change.\n",
       "Then a girl arrives. The first girl ever. And the message she delivers is terrifying.\n",
       "Remember. Survive. Run.\n",
       "Praise for the Maze Runner series:\n",
       "A #1 New York TimesBestselling Series\n",
       "A USA TodayBestseller\n",
       "A Kirkus ReviewsBest Teen Book of the Year\n",
       "An ALA-YASLA Best Fiction for Young Adults Book\n",
       "An ALA-YALSA Quick Pick\n",
       "\"[A] mysterious survival saga that passionate fans describe as a fusion of Lord of the Flies, The Hunger Games, and Lost.\"--EW.com\n",
       "\"Wonderful action writing--fast-paced...but smart and well observed.\"--Newsday\n",
       "\"[A] nail-bitingmust-read.\"--Seventeen.com\n",
       "\"Breathless, cinematic action.\"--Publishers Weekly\n",
       "\"Heart poundingto the very last moment.\"--Kirkus Reviews\n",
       "\"Exclamation-worthy.\"--Romantic Times\n",
       "[STAR] \"James Dashner's illuminating prequel [The Kill Order] will thrill fans of this Maze Runner [series] and prove just as exciting for readersnew to the series.\"--Shelf Awareness, Starred\n",
       "\"Take a deep breath before you startany James Dashner book.\"-Deseret News</td>\n",
       "<td><img src='https://images.gr-assets.com/books/1404480139m/18077840.jpg' width='100' /></td>\n",
       "</tr>\n",
       "<tr>\n",
       "<td>15514</td>\n",
       "<td>The Hunger Games (The Hunger Games, #1)</td>\n",
       "<td>Winning will make you famous.\n",
       "Losing means certain death.\n",
       "The nation of Panem, formed from a post-apocalyptic North America, is a country that consists of a wealthy Capitol region surrounded by 12 poorer districts. Early in its history, a rebellion led by a 13th district against the Capitol resulted in its destruction and the creation of an annual televised event known as the Hunger Games. In punishment, and as a reminder of the power and grace of the Capitol, each district must yield one boy and one girl between the ages of 12 and 18 through a lottery system to participate in the games. The 'tributes' are chosen during the annual Reaping and are forced to fight to the death, leaving only one survivor to claim victory.\n",
       "When 16-year-old Katniss's young sister, Prim, is selected as District 12's female representative, Katniss volunteers to take her place. She and her male counterpart Peeta, are pitted against bigger, stronger representatives, some of whom have trained for this their whole lives. , she sees it as a death sentence. But Katniss has been close to death before. For her, survival is second nature.</td>\n",
       "<td><img src='https://images.gr-assets.com/books/1447303603m/2767052.jpg' width='100' /></td>\n",
       "</tr>\n",
       "<tr>\n",
       "<td>17956</td>\n",
       "<td>Mockingjay (The Hunger Games, #3)</td>\n",
       "<td>MY NAME IS KATNISS EVERDEEN. WHY AM I NOT DEAD? I SHOULD BE DEAD.\n",
       "Katniss Everdeen, girl on fire, has survived, even though her home has been destroyed. Gale has escaped. Katniss's family is safe. Peeta has been captured by the Capitol. District 13 really does exist. There are rebels. There are new leaders. A revolution is unfolding.\n",
       "It is by design that Katniss was rescued from the arena in the cruel and haunting Quarter Quell, and it is by design that she has long been part of the revolution without knowing it. District 13 has come out of the shadows and is plotting to overthrow the Capitol. Everyone, it seems, has had a hand in the carefully laid plans -- except Katniss.\n",
       "The success of the rebellion hinges on Katniss's willingness to be a pawn, to accept responsibility for countless lives, and to change the course of the future of Panem. To do this, she must put aside her feelings of anger and distrust. She must become the rebels' Mockingjay -- no matter what the personal cost.</td>\n",
       "<td><img src='https://images.gr-assets.com/books/1321222774m/12390063.jpg' width='100' /></td>\n",
       "</tr>\n",
       "<tr>\n",
       "<td>18150</td>\n",
       "<td>Divergent (Divergent, #1)</td>\n",
       "<td>Paperback features over fifty pages of bonus materials, including a sneak peek of Insurgent, an author Q&A, a discussion guide, a Divergentplaylist, faction manifestos, and more!\n",
       "In Beatrice Prior's dystopian Chicago world, society is divided into five factions, each dedicated to the cultivation of a particular virtue--Candor (the honest), Abnegation (the selfless), Dauntless (the brave), Amity (the peaceful), and Erudite (the intelligent). On an appointed day of every year, all sixteen-year-olds must select the faction to which they will devote the rest of their lives. For Beatrice, the decision is between staying with her family and being who she really is--she can't have both. So she makes a choice that surprises everyone, including herself.\n",
       "During the highly competitive initiation that follows, Beatrice renames herself Tris and struggles alongside her fellow initiates to live out the choice they have made. Together they must undergo extreme physical tests of endurance and intense psychological simulations, some with devastating consequences. As initiation transforms them all, Tris must determine who her friends really are--and where, exactly, a romance with a sometimes fascinating, sometimes exasperating boy fits into the life she's chosen. But Tris also has a secret, one she's kept hidden from everyone because she's been warned it can mean death. And as she discovers unrest and growing conflict that threaten to unravel her seemingly perfect society, she also learns that her secret might help her save those she loves . . . or it might destroy her.\n",
       "Veronica Roth is the New York Timesbestselling author of Divergent, the first in a trilogy of dystopian thrillers filled with electrifying decisions, heartbreaking betrayals, stunning consequences, and unexpected romance.</td>\n",
       "<td><img src='https://images.gr-assets.com/books/1328559506m/13335037.jpg' width='100' /></td>\n",
       "</tr>\n",
       "<tr>\n",
       "<td>19110</td>\n",
       "<td>Catching Fire (The Hunger Games, #2)</td>\n",
       "<td>Sparks are igniting.\n",
       "Flames are spreading.\n",
       "And the Capitol wants revenge.\n",
       "Against all odds, Katniss has won the Hunger Games. She and fellow District 12 tribute Peeta Mellark are miraculously still alive. Katniss should be relieved, happy even. After all, she has returned to her family and her longtime friend, Gale. Yet nothing is the way Katniss wishes it to be. Gale holds her at an icy distance. Peeta has turned his back on her completely. And there are whispers of a rebellion against the Capitol - a rebellion that Katniss and Peeta may have helped create.\n",
       "Much to her shock, Katniss has fueled an unrest she's afraid she cannot stop. And what scares her even more is that she's not entirely convinced she should try. As time draws near for Katniss and Peeta to visit the districts on the Capitol's cruel Victory Tour, the stakes are higher than ever. If they can't prove, without a shadow of a doubt, that they are lost in their love for each other, the consequences will be horrifying.\n",
       "In Catching Fire, the second novel in the Hunger Games trilogy, Suzanne Collins continues the story of Katniss Everdeen, testing her more than ever before...and surprising readers at every turn.</td>\n",
       "<td><img src='https://images.gr-assets.com/books/1505103348m/36219831.jpg' width='100' /></td>\n",
       "</tr>\n",
       "<tr>\n",
       "<td>27745</td>\n",
       "<td>We Were Liars</td>\n",
       "<td>The New York Timesbestseller We Were Liarsis now available as a not-to-be-missed hardcover deluxe edition! Whether you know how it ends (shh . . . don t tell!) or have let too many seasons go by without discovering the truth about the Liars for yourself, you will want to get your hands on the exclusive new content in this deluxe edition.\n",
       "A beautiful and distinguished family.\n",
       "A private island.\n",
       "A brilliant, damaged girl; a passionate, political boy.\n",
       "A group of four friends the Liars whose friendship turns destructive.\n",
       "A revolution. An accident. A secret.\n",
       "Lies upon lies.\n",
       "True love.\n",
       "The truth.\n",
       "We Were Liarsis a modern, sophisticated suspense novel from National Book Award finalist and Printz Award honoree E. Lockhart. In addition to the bestselling novel, the collector s edition includes:\n",
       ".Never-before-shared letters from Gat to Cadence\n",
       ".A fascinating behind-the-scenes look at the author s creative process\n",
       ".The author s hand-drawn map of Beechwood Island and the Sinclair family tree\n",
       ".Unique ideas for book discussions Sinclair family style\n",
       ".An excerpt from E. Lockhart s upcoming novel Genuine Frauda psychological thriller that will leave you breathless\n",
       "Read it.\n",
       "And if anyone asks you how it ends, just LIE.\n",
       "Praise for We Were Liars: \n",
       "20 Weeks on the New York TimesBestseller List\n",
       "Haunting, sophisticated. . . a novel so twisty and well-toldthat it will appeal to older readers as well as to adolescents. The Wall Street Journal\n",
       "A rich, stunningsummer mystery with a sharp twistthat will leave you dying to talk about the bookwith a pal or ten. Parade.com\n",
       "Thrilling, beautiful, and blisteringly smart, We Were Liarsis utterly unforgettable. John Green, #1 New York Timesbestselling author of The Fault in Our Stars\n",
       "You re going to want to remember the title. Liarsdetails the summers of a girl who harbors a dark secret, and delivers a satisfying, but shocking twist ending. Entertainment Weekly\n",
       "An ambitious novel with an engaging voice, a clever plot and some terrific writing.The New York Times Book Review\n",
       "No one should be talking about the shocking twist ending. What we can talk about is . . . [Lockhart s] razor-sharp portrayal of a family for whom keeping up appearances is paramount and, ultimately, tragic. Chicago Tribune\n",
       "\"</td>\n",
       "<td><img src='https://images.gr-assets.com/books/1487439710m/32981914.jpg' width='100' /></td>\n",
       "</tr>\n",
       "<tr>\n",
       "<td>30197</td>\n",
       "<td>Red Queen (Red Queen, #1)</td>\n",
       "<td>Mare Barrow's world is divided by blood--those with red and those with silver. Mare and her family are lowly Reds, destined to serve the Silver elite whose supernatural abilities make them nearly gods. Mare steals what she can to help her family survive, but when her best friend is conscripted into the army she gambles everything to win his freedom. A twist of fate leads her to the royal palace itself, where, in front of the king and all his nobles, she discovers a power of her own--an ability she didn't know she had. Except . . . her blood is Red.\n",
       "To hide this impossibility, the king forces her into the role of a lost Silver princess and betroths her to one of his own sons. As Mare is drawn further into the Silver world, she risks her new position to aid the Scarlet Guard--the leaders of a Red rebellion. Her actions put into motion a deadly and violent dance, pitting prince against prince--and Mare against her own heart.\n",
       "From debut author Victoria Aveyard comes a lush, vivid fantasy series where loyalty and desire can tear you apart and the only certainty is betrayal.</td>\n",
       "<td><img src='https://images.gr-assets.com/books/1420791169m/22308738.jpg' width='100' /></td>\n",
       "</tr>\n",
       "<tr>\n",
       "<td>33370</td>\n",
       "<td>Eleanor & Park</td>\n",
       "<td>\"Eleanor & Parkreminded me not just what it's like to be young and in love with a girl, but also what it's like to be young and in love with a book.\"-John Green, The New York Times Book Review\n",
       "Bono met his wife in high school, Park says.\n",
       "So did Jerry Lee Lewis, Eleanor answers.\n",
       "I'm not kidding, he says.\n",
       "You should be, she says, we're 16.\n",
       "What about Romeo and Juliet?\n",
       "Shallow, confused, then dead.\n",
       "I love you, Park says.\n",
       "Wherefore art thou, Eleanor answers.\n",
       "I'm not kidding,he says.\n",
       "You should be.\n",
       "Set over the course of one school year in 1986, this is the story of two star-crossed misfits-smart enough to know that first love almost never lasts, but brave and desperate enough to try. When Eleanor meets Park, you'll remember your own first love-and just how hard it pulled you under.\n",
       "A New York TimesBest Seller!\n",
       "A 2014 Michael L. Printz Honor Book for Excellence in Young Adult Literature\n",
       "Eleanor & Parkis the winner of the 2013 Boston GlobeHorn Book Award for Best Fiction Book.\n",
       "A Publishers WeeklyBest Children's Book of 2013\n",
       "A New York Times Book Review Notable Children's Book of 2013\n",
       "A Kirkus Reviews Best Teen Book of 2013\n",
       "An NPR Best Book of 2013</td>\n",
       "<td><img src='https://images.gr-assets.com/books/1393064967m/18139937.jpg' width='100' /></td>\n",
       "</tr>\n",
       "</table>"
      ],
      "text/plain": [
       "<IPython.core.display.HTML object>"
      ]
     },
     "execution_count": 316,
     "metadata": {},
     "output_type": "execute_result"
    }
   ],
   "source": [
    "HTML(dataframe_to_html(books.filter(pl.col(\"item_id\").is_in(test[\"toppopular_recs\"][0].to_list())), [\"item_id\", \"title\", \"description\", \"image_url\"]))"
   ]
  },
  {
   "cell_type": "markdown",
   "id": "618cd102-f8be-458a-84bf-870413fbcdfc",
   "metadata": {},
   "source": [
    "Вспомним про наличие \"холодных\" книг в тестовых данных. Правда ли, что TopPopular никогда не порекомендует такие книги? А что насчет книг, которые пользователь уже прочитал?"
   ]
  },
  {
   "cell_type": "markdown",
   "id": "793cee05-fb75-421c-ba55-108f7031162f",
   "metadata": {},
   "source": [
    "### ItemkNN"
   ]
  },
  {
   "cell_type": "markdown",
   "id": "55af0840-f9eb-4c1b-9049-052199efa940",
   "metadata": {},
   "source": [
    "Попробуем реализовать более персонализированный подход - будем рекомендовать пользователю книги, похожие на те, что понравились ему ранее. Для этого закодируем каждую книгу как набор ключевых слов."
   ]
  },
  {
   "cell_type": "code",
   "execution_count": 317,
   "id": "5792a66e-499d-43f7-8a73-bfb703fd0dcd",
   "metadata": {},
   "outputs": [
    {
     "data": {
      "text/html": [
       "<div><style>\n",
       ".dataframe > thead > tr,\n",
       ".dataframe > tbody > tr {\n",
       "  text-align: right;\n",
       "  white-space: pre-wrap;\n",
       "}\n",
       "</style>\n",
       "<small>shape: (5, 9)</small><table border=\"1\" class=\"dataframe\"><thead><tr><th>item_id</th><th>series</th><th>tags</th><th>title</th><th>description</th><th>url</th><th>image_url</th><th>authors</th><th>embedding</th></tr><tr><td>i64</td><td>list[str]</td><td>list[str]</td><td>str</td><td>str</td><td>str</td><td>str</td><td>list[struct[2]]</td><td>list[f64]</td></tr></thead><tbody><tr><td>0</td><td>[null]</td><td>[&quot;e-book&quot;, &quot;young-adult&quot;, … &quot;y-a&quot;]</td><td>&quot;Hallie Hath No Fury . . .&quot;</td><td>&quot;There are two sides to every s…</td><td>&quot;https://www.goodreads.com/book…</td><td>&quot;https://images.gr-assets.com/b…</td><td>[{&quot;1879494&quot;,&quot;&quot;}]</td><td>[0.0, 0.585206, … 0.0]</td></tr><tr><td>1</td><td>[&quot;149079&quot;]</td><td>[&quot;primary&quot;, &quot;melissa-j--morgan&quot;, … &quot;fiction&quot;]</td><td>&quot;Hide and Shriek: Super Special…</td><td>&quot;The girls go on an overnight a…</td><td>&quot;https://www.goodreads.com/book…</td><td>&quot;https://s.gr-assets.com/assets…</td><td>[{&quot;21740&quot;,&quot;&quot;}]</td><td>[0.0, 0.0, … 0.199007]</td></tr><tr><td>2</td><td>[null]</td><td>[&quot;friendship&quot;, &quot;middle-reader&quot;, … &quot;my-library&quot;]</td><td>&quot;Dear Mom, You&#x27;re Ruining My Li…</td><td>&quot;Samantha Slayton worries about…</td><td>&quot;https://www.goodreads.com/book…</td><td>&quot;https://s.gr-assets.com/assets…</td><td>[{&quot;18946&quot;,&quot;&quot;}]</td><td>[0.0, 0.27735, … 0.0]</td></tr><tr><td>3</td><td>[&quot;151088&quot;]</td><td>[&quot;summer-2017&quot;, &quot;bullying&quot;, … &quot;re-read&quot;]</td><td>&quot;Bratfest at Tiffany&#x27;s (Clique …</td><td>&quot;Massie Block: The Briarwood bo…</td><td>&quot;https://www.goodreads.com/book…</td><td>&quot;https://images.gr-assets.com/b…</td><td>[{&quot;4605&quot;,&quot;&quot;}]</td><td>[0.0, 0.0, … 0.0]</td></tr><tr><td>4</td><td>[&quot;812067&quot;]</td><td>[&quot;rosemary-vernon&quot;, &quot;young-adult&quot;, … &quot;to-read&quot;]</td><td>&quot;Questions of Love (Sweet Dream…</td><td>&quot;When Sammi Edwards is chosen t…</td><td>&quot;https://www.goodreads.com/book…</td><td>&quot;https://images.gr-assets.com/b…</td><td>[{&quot;792676&quot;,&quot;&quot;}]</td><td>[0.0, 0.2, … 0.0]</td></tr></tbody></table></div>"
      ],
      "text/plain": [
       "shape: (5, 9)\n",
       "┌─────────┬────────────┬───────────┬───────────┬───┬───────────┬───────────┬───────────┬───────────┐\n",
       "│ item_id ┆ series     ┆ tags      ┆ title     ┆ … ┆ url       ┆ image_url ┆ authors   ┆ embedding │\n",
       "│ ---     ┆ ---        ┆ ---       ┆ ---       ┆   ┆ ---       ┆ ---       ┆ ---       ┆ ---       │\n",
       "│ i64     ┆ list[str]  ┆ list[str] ┆ str       ┆   ┆ str       ┆ str       ┆ list[stru ┆ list[f64] │\n",
       "│         ┆            ┆           ┆           ┆   ┆           ┆           ┆ ct[2]]    ┆           │\n",
       "╞═════════╪════════════╪═══════════╪═══════════╪═══╪═══════════╪═══════════╪═══════════╪═══════════╡\n",
       "│ 0       ┆ [null]     ┆ [\"e-book\" ┆ Hallie    ┆ … ┆ https://w ┆ https://i ┆ [{\"187949 ┆ [0.0,     │\n",
       "│         ┆            ┆ , \"young- ┆ Hath No   ┆   ┆ ww.goodre ┆ mages.gr- ┆ 4\",\"\"}]   ┆ 0.585206, │\n",
       "│         ┆            ┆ adult\", … ┆ Fury . .  ┆   ┆ ads.com/b ┆ assets.co ┆           ┆ … 0.0]    │\n",
       "│         ┆            ┆ \"y…       ┆ .         ┆   ┆ ook…      ┆ m/b…      ┆           ┆           │\n",
       "│ 1       ┆ [\"149079\"] ┆ [\"primary ┆ Hide and  ┆ … ┆ https://w ┆ https://s ┆ [{\"21740\" ┆ [0.0,     │\n",
       "│         ┆            ┆ \", \"melis ┆ Shriek:   ┆   ┆ ww.goodre ┆ .gr-asset ┆ ,\"\"}]     ┆ 0.0, …    │\n",
       "│         ┆            ┆ sa-j--mor ┆ Super     ┆   ┆ ads.com/b ┆ s.com/ass ┆           ┆ 0.199007] │\n",
       "│         ┆            ┆ gan…      ┆ Special…  ┆   ┆ ook…      ┆ ets…      ┆           ┆           │\n",
       "│ 2       ┆ [null]     ┆ [\"friends ┆ Dear Mom, ┆ … ┆ https://w ┆ https://s ┆ [{\"18946\" ┆ [0.0,     │\n",
       "│         ┆            ┆ hip\", \"mi ┆ You're    ┆   ┆ ww.goodre ┆ .gr-asset ┆ ,\"\"}]     ┆ 0.27735,  │\n",
       "│         ┆            ┆ ddle-read ┆ Ruining   ┆   ┆ ads.com/b ┆ s.com/ass ┆           ┆ … 0.0]    │\n",
       "│         ┆            ┆ er\"…      ┆ My Li…    ┆   ┆ ook…      ┆ ets…      ┆           ┆           │\n",
       "│ 3       ┆ [\"151088\"] ┆ [\"summer- ┆ Bratfest  ┆ … ┆ https://w ┆ https://i ┆ [{\"4605\", ┆ [0.0,     │\n",
       "│         ┆            ┆ 2017\",    ┆ at        ┆   ┆ ww.goodre ┆ mages.gr- ┆ \"\"}]      ┆ 0.0, …    │\n",
       "│         ┆            ┆ \"bullying ┆ Tiffany's ┆   ┆ ads.com/b ┆ assets.co ┆           ┆ 0.0]      │\n",
       "│         ┆            ┆ \", … …    ┆ (Clique … ┆   ┆ ook…      ┆ m/b…      ┆           ┆           │\n",
       "│ 4       ┆ [\"812067\"] ┆ [\"rosemar ┆ Questions ┆ … ┆ https://w ┆ https://i ┆ [{\"792676 ┆ [0.0,     │\n",
       "│         ┆            ┆ y-vernon\" ┆ of Love   ┆   ┆ ww.goodre ┆ mages.gr- ┆ \",\"\"}]    ┆ 0.2, …    │\n",
       "│         ┆            ┆ , \"young- ┆ (Sweet    ┆   ┆ ads.com/b ┆ assets.co ┆           ┆ 0.0]      │\n",
       "│         ┆            ┆ adu…      ┆ Dream…    ┆   ┆ ook…      ┆ m/b…      ┆           ┆           │\n",
       "└─────────┴────────────┴───────────┴───────────┴───┴───────────┴───────────┴───────────┴───────────┘"
      ]
     },
     "metadata": {},
     "output_type": "display_data"
    }
   ],
   "source": [
    "tags_as_strings = books[\"tags\"].map_elements(lambda x: \" \".join(x), return_dtype=pl.String)\n",
    "\n",
    "vectorizer = CountVectorizer(min_df=0.2, max_df=0.8, max_features=32)\n",
    "X = vectorizer.fit_transform(tags_as_strings)\n",
    "embeddings = normalize(X.toarray()).tolist()\n",
    "\n",
    "books = books.with_columns(\n",
    "    pl.Series(\"embedding\", embeddings)\n",
    ")\n",
    "display(books.head())"
   ]
  },
  {
   "cell_type": "code",
   "execution_count": 318,
   "id": "df1b4e37-e430-4f69-afa2-29a9d4912678",
   "metadata": {},
   "outputs": [
    {
     "data": {
      "application/vnd.jupyter.widget-view+json": {
       "model_id": "b027a1c65b3243608247416d423b47d2",
       "version_major": 2,
       "version_minor": 0
      },
      "text/plain": [
       "  0%|          | 0/38 [00:00<?, ?it/s]"
      ]
     },
     "metadata": {},
     "output_type": "display_data"
    },
    {
     "name": "stdout",
     "output_type": "stream",
     "text": [
      "shape: (5, 5)\n",
      "┌───────────────────┬───────────────────┬───────────────────┬───────────────────┬──────────────────┐\n",
      "│ user_id           ┆ item_id           ┆ random_recs       ┆ toppopular_recs   ┆ item_knn_recs    │\n",
      "│ ---               ┆ ---               ┆ ---               ┆ ---               ┆ ---              │\n",
      "│ str               ┆ list[i64]         ┆ array[i64, 10]    ┆ array[i64, 10]    ┆ list[i64]        │\n",
      "╞═══════════════════╪═══════════════════╪═══════════════════╪═══════════════════╪══════════════════╡\n",
      "│ 00000377eea48021d ┆ [13252]           ┆ [27547, 4970, …   ┆ [4058, 15514, …   ┆ [4493, 26690, …  │\n",
      "│ 3002730d56aca…    ┆                   ┆ 3248]             ┆ 13159]            ┆ 31641]           │\n",
      "│ 00009ab2ed8cbfced ┆ [2328]            ┆ [19675, 21568, …  ┆ [4058, 15514, …   ┆ [16282, 986, …   │\n",
      "│ a5a59da409663…    ┆                   ┆ 3847]             ┆ 13159]            ┆ 21243]           │\n",
      "│ 00009e46d18f223a8 ┆ [28636, 30197]    ┆ [30534, 9626, …   ┆ [4058, 15514, …   ┆ [10468, 13159, … │\n",
      "│ 2b22da38586b6…    ┆                   ┆ 688]              ┆ 13159]            ┆ 4595]            │\n",
      "│ 0001085188e302fc6 ┆ [2159, 2969, …    ┆ [10852, 21325, …  ┆ [4058, 15514, …   ┆ [4493, 26690, …  │\n",
      "│ b2568de45a5f5…    ┆ 33630]            ┆ 29841]            ┆ 13159]            ┆ 31641]           │\n",
      "│ 00014c57811109072 ┆ [45, 3513, …      ┆ [19799, 14240, …  ┆ [4058, 15514, …   ┆ [18174, 18692, … │\n",
      "│ 0e20f5705eba0…    ┆ 33273]            ┆ 11794]            ┆ 13159]            ┆ 7561]            │\n",
      "└───────────────────┴───────────────────┴───────────────────┴───────────────────┴──────────────────┘\n"
     ]
    },
    {
     "data": {
      "text/plain": [
       "{'ndcg@10': 0.007, 'recall@10': 0.008, 'coverage': 0.764}"
      ]
     },
     "execution_count": 318,
     "metadata": {},
     "output_type": "execute_result"
    }
   ],
   "source": [
    "class ItemkNN:\n",
    "    def __init__(self):\n",
    "        self.trained: bool = False\n",
    "        self.train_most_liked_item: pl.DataFrame | None = None\n",
    "        self.items_embeddings: np.ndarray | None = None\n",
    "        self.items_item_ids: np.ndarray | None = None\n",
    "\n",
    "    def fit(\n",
    "        self,\n",
    "        df: pl.DataFrame,\n",
    "        items_df: pl.DataFrame,\n",
    "        item_id_col: str = \"item_id\"\n",
    "    ) -> None:\n",
    "        self.items_embeddings = np.array(items_df[\"embedding\"].to_list())\n",
    "        self.items_item_ids = items_df[item_id_col].to_numpy()\n",
    "\n",
    "        # find the most liked item for each user\n",
    "        self.train_most_liked_item = (\n",
    "            df.lazy()\n",
    "            .sort(\"rating\", descending=True)\n",
    "            .group_by(\"user_id\")\n",
    "            .agg(pl.col(item_id_col).first().alias(item_id_col))\n",
    "            .join(\n",
    "                items_df.lazy().select([item_id_col, \"embedding\"]),\n",
    "                on=item_id_col,\n",
    "                how=\"left\"\n",
    "            )\n",
    "            .collect()\n",
    "        )\n",
    "        self.trained = True\n",
    "\n",
    "    def _get_batch_predictions(\n",
    "        self,\n",
    "        batch_user_embeddings: np.ndarray,\n",
    "        batch_current_items: np.ndarray,\n",
    "        batch_user_mask: np.ndarray,\n",
    "        topn: int\n",
    "    ) -> list[np.ndarray]:\n",
    "        batch_predictions = []\n",
    "        \n",
    "        # compute similarity scores for all items in batch\n",
    "        batch_scores = batch_user_embeddings @ self.items_embeddings.T\n",
    "\n",
    "        for user_scores, current_item, has_embedding in zip(\n",
    "            batch_scores, batch_current_items, batch_user_mask\n",
    "        ):\n",
    "            if not has_embedding:\n",
    "                batch_predictions.append([])\n",
    "                continue\n",
    "\n",
    "            # get top (topn + 1) most similar items\n",
    "            top_indices = np.argpartition(-user_scores, topn + 1)[:topn + 1]\n",
    "            \n",
    "            # filter out current item and take topn\n",
    "            recommended_items = []\n",
    "            for item_idx in top_indices:\n",
    "                if self.items_item_ids[item_idx] != current_item:\n",
    "                    recommended_items.append(self.items_item_ids[item_idx])\n",
    "                if len(recommended_items) >= topn:\n",
    "                    break\n",
    "\n",
    "            batch_predictions.append(recommended_items)\n",
    "\n",
    "        return batch_predictions\n",
    "\n",
    "    def predict(\n",
    "        self,\n",
    "        df: pl.DataFrame,\n",
    "        topn: int = 10,\n",
    "        batch_size: int = 5_000\n",
    "    ) -> list[np.ndarray]:\n",
    "        assert self.trained\n",
    "        \n",
    "        user_data = (\n",
    "            df.select([\"user_id\"])\n",
    "            .join(self.train_most_liked_item, on=\"user_id\", how=\"left\")\n",
    "        )\n",
    "\n",
    "        user_embeddings = np.array(user_data[\"embedding\"].to_list())\n",
    "        current_items = user_data[\"item_id\"].to_numpy()\n",
    "        user_mask = user_data[\"embedding\"].is_not_null().to_numpy()\n",
    "\n",
    "        predictions = []\n",
    "        n_users = len(user_data)\n",
    "\n",
    "        for batch_start in tqdm(range(0, n_users, batch_size)):\n",
    "            batch_end = min(batch_start + batch_size, n_users)\n",
    "            \n",
    "            batch_predictions = self._get_batch_predictions(\n",
    "                user_embeddings[batch_start:batch_end],\n",
    "                current_items[batch_start:batch_end],\n",
    "                user_mask[batch_start:batch_end],\n",
    "                topn\n",
    "            )\n",
    "            predictions.extend(batch_predictions)\n",
    "\n",
    "        return predictions\n",
    "\n",
    "\n",
    "item_knn = ItemkNN()\n",
    "item_knn.fit(train, books)\n",
    "test = test.with_columns(\n",
    "    item_knn_recs=pl.Series(item_knn.predict(test))\n",
    ")\n",
    "print(test.head())\n",
    "evaluate_recommender(df=test, model_preds_col=\"item_knn_recs\")"
   ]
  },
  {
   "cell_type": "markdown",
   "id": "b60a0e8c-1b7d-453c-a6d2-1b28f20b50d7",
   "metadata": {},
   "source": [
    "Лучше, чем случайность, но хуже, чем топ популярных. А хуже ли? Посмотрим некоторые подборки рекомендаций."
   ]
  },
  {
   "cell_type": "code",
   "execution_count": 323,
   "id": "ec71d0be-d08f-42ef-a44c-e0e76e2fd57d",
   "metadata": {},
   "outputs": [
    {
     "data": {
      "text/html": [
       "<table border='1'>\n",
       "<tr>\n",
       "<th>item_id</th>\n",
       "<th>title</th>\n",
       "<th>description</th>\n",
       "<th>image_url</th>\n",
       "</tr>\n",
       "<tr>\n",
       "<td>570</td>\n",
       "<td>A Million Miles Away</td>\n",
       "<td>Twin sisters Kelsey and Michelle Maxfield look identical -- but they couldn't be more different. Kelsey is the captain of the dance team and loves her cute college boyfriend, Davis. Michelle is a free-spirited artist and flits from one guy to the next, the latest a soldier recently deployed to Afghanistan. Despite their differences, Kelsey and Michelle can't live without each other--until, in an instant, everything changes.\n",
       "When Michelle dies in a car crash, Kelsey is left without her other half. As the only one who knows about her sister's boyfriend, Peter, Kelsey takes it upon herself to find him and tell him what happened to Michelle. But when she finally connects with Peter online, he thinks that Kelsey isMichelle and says that seeing her is the one thing keeping him alive. Caught up in the moment, Kelsey can't bear to break his heart with the truth, so she lets Peter believe that she is Michelle.\n",
       "Kelsey keeps up the act, pretending to be her sister, and soon she can't deny that she's falling, hard, for the one boy she shouldn't want.\n",
       "Lara Avery delivers a breathtaking story of love and loss that is guaranteed to sweep you off your feet.</td>\n",
       "<td><img src='https://images.gr-assets.com/books/1449997164m/26245037.jpg' width='100' /></td>\n",
       "</tr>\n",
       "<tr>\n",
       "<td>2643</td>\n",
       "<td>Where the Road Takes Me</td>\n",
       "<td>Listening time 8 hours 51 minutes\n",
       "Chloe has one plan for the future, and one plan only: the road. She's made a promise to herself: don't let anyone in, and don't let anyone love her. She's learned the hard way what happens if she breaks her rules. So she's focused on being invisible and waiting until she can set out on the road--her dream of freedom, at least for a little while.\n",
       "Blake Hunter is a basketball star who has it all--everything about him looks perfect to those on the other side of his protective walls. He can't let anyone see the shattered pieces behind the flawless facade or else all his hopes and dreams will disappear.\n",
       "One dark night throws Chloe and Blake together, changing everything for Blake. For Chloe, nothing changes: she has the road, and she's focused on it. But when the so-called perfect boy starts to notice the invisible girl, they discover that sometimes with love, no one knows where the road may lead.</td>\n",
       "<td><img src='https://images.gr-assets.com/books/1459906407m/29807170.jpg' width='100' /></td>\n",
       "</tr>\n",
       "<tr>\n",
       "<td>2715</td>\n",
       "<td>Where the Road Takes Me (The Road, #1)</td>\n",
       "<td>Chloe has one plan for the future, and one plan only: the road. She's made a promise to herself: don't let anyone in, and don't let anyone love her. She's learned the hard way what happens if she breaks her rules. So she's focused on being invisible and waiting until she can set out on the road--her dream of freedom, at least for a little while.\n",
       "Blake Hunter is a basketball star who has it all--everything about him looks perfect to those on the other side of his protective walls. He can't let anyone see the shattered pieces behind the flawless facade or else all his hopes and dreams will disappear.\n",
       "One dark night throws Chloe and Blake together, changing everything for Blake. For Chloe, nothing changes: she has the road, and she's focused on it. But when the so-called perfect boy starts to notice the invisible girl, they discover that sometimes with love, no one knows where the road may lead.</td>\n",
       "<td><img src='https://images.gr-assets.com/books/1420156913m/23743645.jpg' width='100' /></td>\n",
       "</tr>\n",
       "<tr>\n",
       "<td>6659</td>\n",
       "<td>Kissing in America</td>\n",
       "<td>Acclaimed writer Margo Rabb's Kissing in Americais \"a wonderful novel about friendship, love, travel, life, hope, poetry, intelligence, and the inner lives of girls,\" raves internationallybestselling author Elizabeth Gilbert (Eat, Pray, Love). \n",
       "In the two years since her father died, sixteen-year-old Eva has found comfort in reading romance novels--118 of them, to be exact--to dull the pain of her loss that's still so present. Her romantic fantasies become a reality when she meets Will, who can relate to Eva's grief. Unfortunately, after Eva falls head-over-heels for him, he picks up and moves to California with barely any warning. Not wanting to lose the only person who has been able to pull her out of sadness--and, perhaps, her first shot at real love--Eva and her best friend, Annie, concoct a plan to travel to the west coast. As they road trip across America, Eva and Annie confront the complex truth about love.\n",
       "In this honest and emotional journey that National Book Award Finalist Sara Zarr calls \"gorgeous, funny, and joyous,\" readers will experience the highs of infatuation and the lows of heartache as Eva contends with love in all of its forms.\n",
       "Since publication, this novel received 4 starred reviews and has been named:\n",
       "A Chicago Public Library Best Teen Book of 2015\n",
       "A New York Public Library Best Book for Teens 2015\n",
       "A Miami HeraldBest Book of the Year\n",
       "A Spirit of Texas selection\n",
       "A TAYSHAS High School Reading List Selection\n",
       "An Oprah Summer Reading List selection\n",
       "A Junior Library Guild selection\n",
       "An Amazon Best Book of the Month\n",
       "A Publisher's Lunch 2015 Buzz Book for Young Adults</td>\n",
       "<td><img src='https://images.gr-assets.com/books/1450038194m/26198838.jpg' width='100' /></td>\n",
       "</tr>\n",
       "<tr>\n",
       "<td>14220</td>\n",
       "<td>Lying Out Loud</td>\n",
       "<td>Kody Keplinger returns to the world of The DUFFin this brand-new companion novel!\n",
       "Sonny Ardmore is an excellent liar. She lies about her dad being in prison. She lies about her mom kicking her out. And she lies about sneaking into her best friend's house every night because she has nowhere else to go.\n",
       "Amy Rush might be the only person Sonny shares everything with-- secrets, clothes, even a nemesis named Ryder Cross.\n",
       "Ryder's the new kid at Hamilton High and everything Sonny and Amy can't stand--a prep-school snob. But Ryder has a weakness: Amy. So when Ryder emails Amy asking her out, the friends see it as a prank opportunity not to be missed.\n",
       "But without meaning to, Sonny ends up talking to Ryder all night online. And to her horror, she realizes that she might actually like him. Only there's one small catch: he thinks he's been talking to Amy. So Sonny comes up with an elaborate scheme to help Ryder realize that she's the girl he's really wanted all along. Can Sonny lie her way to the truth, or will all her lies end up costing her both Ryder and Amy?</td>\n",
       "<td><img src='https://images.gr-assets.com/books/1433243112m/25648831.jpg' width='100' /></td>\n",
       "</tr>\n",
       "<tr>\n",
       "<td>17407</td>\n",
       "<td>Wrong About the Guy</td>\n",
       "<td>This contemporary twist on Jane Austen's Emmafeatures the signature wit and swoon-worthy romance of beloved author Claire LaZebnik's other fan favorites Epic Fail, The Trouble with Flirting, and The Last Best Kiss.\n",
       "Ellie Withers is definitely notspoiled, so she wishes that George Nussbaum would stop implying that she is. It's not her fault that her stepfather became a TV star and now they live in a big house and people fawn over her wherever she goes. She doesn't even likebeing fawned over. Fortunately, her two closest friends understand her a lot better than George: Heather Smith loved her before she even knew who Ellie's stepfather was, and handsome Aaron Marquand has a father who's just as famous.\n",
       "With Aaron back in town and very much in her life, Ellie feels like things are just fine--or would be if her mother hadn't hired George to tutor her. George has a habit of making Ellie feel a little less sure of herself, a little less on top of the world, a little less right about everything. It's almost like he wants her to be a better person than she is.\n",
       "When Ellie's plans for her family, her friends, and even her love life don't turn out the way she imagined, she begins to wonder if maybe she couldstand to learn a thing or two after all . . . and whether it's possible--or even likely--that the perfect person to teach her is the last person she'd expect.</td>\n",
       "<td><img src='https://images.gr-assets.com/books/1417040697m/23621464.jpg' width='100' /></td>\n",
       "</tr>\n",
       "<tr>\n",
       "<td>24011</td>\n",
       "<td>Between Us and the Moon</td>\n",
       "<td>A luminous young adult novel that evokes Judy Blume's Forever for a new generation.\n",
       "Ever since Sarah was born, she's lived in the shadow of her beautiful older sister, Scarlett. But this summer on Cape Cod, she's determined to finally grow up. Then she meets gorgeous college boy Andrew. He sees her as the girl she wants to be. A girl who's older than she is. A girl like Scarlett.\n",
       "Before she knows what's happened, one little lie has transformed into something real. And by the end of August, she might have to choose between falling in love, and finding herself.\n",
       "Fans of Jenny Han and Stephanie Perkins are destined to fall for this story about how life and love are impossible to predict.</td>\n",
       "<td><img src='https://images.gr-assets.com/books/1414510465m/20807316.jpg' width='100' /></td>\n",
       "</tr>\n",
       "<tr>\n",
       "<td>24195</td>\n",
       "<td>One of the Guys</td>\n",
       "<td>Tomboy to the core, Toni Valentine understands guys. She'll take horror movies, monster hunts and burping contests over manicures. So Toni is horrified when she's sent to the Winston Academy for Girls, where she has to wear a skirt and learn to be a ladywhile the guys move on without her.\n",
       "Then Toni meets Emma Elizabeth, a girl at school with boy troubles, and she volunteers one of her friends as a pretend date. Word spreads of Toni's connections with boys, and she discovers that her new wealthy female classmates will pay big money for fake dates. Looking for a way to connect her old best friends with her new life at school, Toni and Emma start up Toni Valentine's Rent-A-Gent Service.\n",
       "But the business meets a scandal when Toni falls for one of her friends--the same guy who happens to be the most sought-after date. With everything she's built on the line, Toni has to decide if she wants to save the business and her old life, or let go of being one of the guys for a chance at love.</td>\n",
       "<td><img src='https://images.gr-assets.com/books/1413756908m/22957535.jpg' width='100' /></td>\n",
       "</tr>\n",
       "<tr>\n",
       "<td>29971</td>\n",
       "<td>Lying Out Loud: A Companion to The DUFF</td>\n",
       "<td>Sonny Ardmore is an excellent liar. She lies about her dad being in prison. She lies about her mom kicking her out. And she lies about sneaking into her best friend's house every night because she has nowhere else to go.\n",
       "Amy Rush might be the only person Sonny shares everything with -- secrets, clothes, even a nemesis named Ryder Cross.\n",
       "Ryder's the new kid at Hamilton High and everything Sonny and Amy can't stand -- a prep-school snob. But Ryder has a weakness: Amy. So when Ryder emails Amy asking her out, the friends see it as a prank opportunity not to be missed.\n",
       "But without meaning to, Sonny ends up talking to Ryder all night online. And to her horror, she realizes that she might actually like him. Only there's one small catch: he thinks he's been talking to Amy. So Sonny comes up with an elaborate scheme to help Ryder realize that she's the girl he's really wanted all along. Can Sonny lie her way to the truth, or will all her lies end up costing her both Ryder and Amy?</td>\n",
       "<td><img src='https://images.gr-assets.com/books/1457387953m/26892069.jpg' width='100' /></td>\n",
       "</tr>\n",
       "<tr>\n",
       "<td>32650</td>\n",
       "<td>Jungs to go</td>\n",
       "<td>Tomboy to the core, Toni Valentine understands guys. She'll take horror movies, monster hunts and burping contests over manicures. So Toni is horrified when she's sent to the Winston Academy for Girls, where she has to wear a skirt and learn to be a ladywhile the guys move on without her.\n",
       "Then Toni meets Emma Elizabeth, a girl at school with boy troubles, and she volunteers one of her friends as a pretend date. Word spreads of Toni's connections with boys, and she discovers that her new wealthy female classmates will pay big money for fake dates. Looking for a way to connect her old best friends with her new life at school, Toni and Emma start up Toni Valentine's Rent-A-Gent Service.\n",
       "But the business meets a scandal when Toni falls for one of her friends--the same guy who happens to be the most sought-after date. With everything she's built on the line, Toni has to decide if she wants to save the business and her old life, or let go of being one of the guys for a chance at love.</td>\n",
       "<td><img src='https://images.gr-assets.com/books/1441706638m/26249815.jpg' width='100' /></td>\n",
       "</tr>\n",
       "</table>"
      ],
      "text/plain": [
       "<IPython.core.display.HTML object>"
      ]
     },
     "execution_count": 323,
     "metadata": {},
     "output_type": "execute_result"
    }
   ],
   "source": [
    "HTML(dataframe_to_html(books.filter(pl.col(\"item_id\").is_in(test.sample(1)[\"item_knn_recs\"][0].to_list())), [\"item_id\", \"title\", \"description\", \"image_url\"]))"
   ]
  },
  {
   "cell_type": "code",
   "execution_count": 326,
   "id": "159cc236-3fd1-4cbe-b03a-8cd8a7995325",
   "metadata": {},
   "outputs": [
    {
     "data": {
      "text/html": [
       "<table border='1'>\n",
       "<tr>\n",
       "<th>item_id</th>\n",
       "<th>title</th>\n",
       "<th>description</th>\n",
       "<th>image_url</th>\n",
       "</tr>\n",
       "<tr>\n",
       "<td>2279</td>\n",
       "<td>Insurgent</td>\n",
       "<td>One choice can transform you--or it can destroy you. But every choice has consequences, and as unrest surges in the factions all around her, Tris Prior must continue trying to save those she loves - and herself - while grappling with haunting questions of grief and forgiveness, identity and loyalty, politics and love.\n",
       "Tris's initiation day should have been marked by celebration and victory with her chosen faction; instead, the day ended with unspeakable horrors. War now looms as conflict between the factions and their ideologies grows. And in times of war, sides must be chosen, secrets will emerge, and choices will become even more irrevocable - and even more powerful. Transformed by her own decisions but also by haunting grief and guilt, radical new discoveries, and shifting relationships, Tris must fully embrace her Divergence, even if she does not know what she may lose by doing so.\n",
       "New York Timesbestselling author Veronica Roth's much-anticipated second book of the dystopian DIVERGENT series is another intoxicating thrill ride of a story, rich with hallmark twists, heartbreaks, romance, and powerful insights about human nature.</td>\n",
       "<td><img src='https://images.gr-assets.com/books/1365989496m/17466045.jpg' width='100' /></td>\n",
       "</tr>\n",
       "<tr>\n",
       "<td>3688</td>\n",
       "<td>Delirium (Delirium, #1)</td>\n",
       "<td>Lena Haloway is content in her safe, government-managed society. She feels (mostly) relaxed about the future in which her husband and career will be decided, and looks forward to turning 18, when she'll be cured of deliria, a.k.a. love. She tries not to think about her mother's suicide (her last words to Lena were a forbidden \"I love you\") or the supposed \"Invalid\" community made up of the uncured just beyond her Portland, Maine, border. There's no real point--she believes her government knows how to best protect its people, and should do so at any cost. But 95 days before her cure, Lena meets Alex, a confident and mysterious young man who makes her heart flutter and her skin turn red-hot. As their romance blossoms, Lena begins to doubt the intentions of those in power, and fears that her world will turn gray should she submit to the procedure. In this powerful and beautifully written novel, Lauren Oliver, the bestselling author of Before I Fall, throws readers into a tightly controlled society where options don't exist, and shows not only the lengths one will go for a chance at freedom, but also the true meaning of sacrifice. --Jessica Schein</td>\n",
       "<td><img src='https://images.gr-assets.com/books/1327135588m/10644205.jpg' width='100' /></td>\n",
       "</tr>\n",
       "<tr>\n",
       "<td>4595</td>\n",
       "<td>Allegiant (Divergent, #3)</td>\n",
       "<td>What if your whole world was a lie? The thrillingly dark conclusion to the No. 1 New York Times bestselling DIVERGENT trilogy. DIVERGENT - a major motion picture in 2014. What if a single revelation - like a single choice - changed everything? What if love and loyalty made you do things you never expected? The faction-based society that Tris Prior once believed in is shattered - fractured by violence and power struggles and scarred by loss and betrayal. So when offered a chance to explore the world past the limits she's known, Tris is ready. Perhaps beyond the fence, she and Tobias will find a simple new life together, free from complicated lies, tangled loyalties, and painful memories. But Tris's new reality is even more alarming than the one she left behind. Old discoveries are quickly rendered meaningless. Explosive new truths change the hearts of those she loves. And once again, Tris must battle to comprehend the complexities of human nature - and of herself - while facing impossible choices about courage, allegiance, sacrifice and love. Told from a riveting dual perspective, Allegiant, by #1 New York Times best-selling author Veronica Roth, brings the Divergent series to a powerful conclusion while revealing the secrets of the dystopian world that has captivated millions of readers in Divergent and Insurgent.</td>\n",
       "<td><img src='https://images.gr-assets.com/books/1382611741m/18713720.jpg' width='100' /></td>\n",
       "</tr>\n",
       "<tr>\n",
       "<td>7320</td>\n",
       "<td>Allegiant (Divergent, #3) الوفية</td>\n",
       "<td>The faction-based society that Tris Prior once believed in is shattered - fractured by violence and power struggles and scarred by loss and betrayal. So when offered a chance to explore the world past the limits she's known, Tris is ready. Perhaps beyond the fence, she and Tobias will find a simple new life together, free from complicated lies, tangled loyalties, and painful memories.\n",
       "But Tris's new reality is even more alarming than the one she left behind. Old discoveries are quickly rendered meaningliess. Explosive new truths change the hearts of those she loves. And once again, Tris must battle to comprehend to complexities of human nature - and of herself - while facing impossible choices about courage, allegiance, sacrifice, and love.\n",
       "Told from a riveting dual perspective, ALLEGIANT, by #1 New York Timesbest-selling author Veronica Roth, brings the DIVERGENT series to a powerful conclusion while revealing the secrets of the dystopian world that has captivated millions of readers in DIVERGENT and INSURGENT.</td>\n",
       "<td><img src='https://images.gr-assets.com/books/1448133797m/27872610.jpg' width='100' /></td>\n",
       "</tr>\n",
       "<tr>\n",
       "<td>10468</td>\n",
       "<td>Divergente</td>\n",
       "<td>Alternate cover edition for \u0001\n",
       "Beatrice Pryor lives in a dystopian Chicago, which is divided into five factions devoted to different virtues. On a set day every year, sixteen-year-olds must select which faction they will devote the rest of their lives to. Beatrice must choose between staying with her family and being who she really is. Beatrice also has a secret, one she has been warned can mean death if exposed. Now, Beatrice</td>\n",
       "<td><img src='https://images.gr-assets.com/books/1452630932m/28525374.jpg' width='100' /></td>\n",
       "</tr>\n",
       "<tr>\n",
       "<td>10667</td>\n",
       "<td>Convergente (Divergent, #3)</td>\n",
       "<td>The faction-based society that Tris Prior once believed in is shattered - fractured by violence and power struggles and scarred by loss and betrayal. So when offered a chance to explore the world past the limits she's known, Tris is ready. Perhaps beyond the fence, she and Tobias will find a simple new life together, free from complicated lies, tangled loyalties, and painful memories.\n",
       "But Tris's new reality is even more alarming than the one she left behind. Old discoveries are quickly rendered meaningliess. Explosive new truths change the hearts of those she loves. And once again, Tris must battle to comprehend to complexities of human nature - and of herself - while facing impossible choices about courage, allegiance, sacrifice, and love.\n",
       "Told from a riveting dual perspective, ALLEGIANT, by #1 New York Timesbest-selling author Veronica Roth, brings the DIVERGENT series to a powerful conclusion while revealing the secrets of the dystopian world that has captivated millions of readers in DIVERGENT and INSURGENT.</td>\n",
       "<td><img src='https://images.gr-assets.com/books/1475936990m/32500082.jpg' width='100' /></td>\n",
       "</tr>\n",
       "<tr>\n",
       "<td>14010</td>\n",
       "<td>Delirium</td>\n",
       "<td>Alternate cover edition can be found \u0001. \n",
       "The first book in Lauren Oliver's remarkable New York Times bestselling trilogy about forbidden love, revolution, and the power to choose.\n",
       "In an alternate United States, love has been declared a dangerous disease, and the government forces everyone who reaches eighteen to have a procedure called the Cure. Living with her aunt, uncle, and cousins in Portland, Maine, Lena Haloway is very much looking forward to being cured and living a safe, predictable life. She watched love destroy her mother and isn't about to make the same mistake.\n",
       "With ninety-five days left until her treatment, Lena meets enigmatic Alex, a boy from the Wilds who lives under the government's radar. What will happen if they do the unthinkable and fall in love?</td>\n",
       "<td><img src='https://images.gr-assets.com/books/1381287405m/13621088.jpg' width='100' /></td>\n",
       "</tr>\n",
       "<tr>\n",
       "<td>14538</td>\n",
       "<td>Divergent</td>\n",
       "<td>This first book in Veronica Roth's #1 New York Timesbestselling Divergent trilogy is the novel that inspired the major motion picture starring Shailene Woodley, Theo James, and Kate Winslet. This dystopian series set in a futuristic Chicago has captured the hearts of millions of teen and adult readers.\n",
       "Perfect for fans of the Hunger Games and Maze Runner series, Divergentand its sequels, Insurgentand Allegiant--plus Four: A Divergent Collection, four stories told from the perspective of the character Tobias--are the gripping story of a dystopian world transformed by courage, self-sacrifice, and love. Fans of the Divergentmovie will find the book packed with just as much emotional depth and exhilarating action as the film, all told in beautiful, rich language.\n",
       "The paperback edition includes bonus materials created by Veronica Roth, including her essays on Utopian worlds and how she named the factions, writing tips, a Q&A, a Divergentplaylist, faction manifestos, and an excerpt from Insurgent.\n",
       "One choice can transform you.Beatrice Prior's society is divided into five factions--Candor (the honest), Abnegation (the selfless), Dauntless (the brave), Amity (the peaceful), and Erudite (the intelligent). Beatrice must choose between staying with her Abnegation family and transferring factions. Her choice will shock her community and herself. But the newly christened Tris also has a secret, one she's determined to keep hidden, because in this world, what makes you different makes you dangerous.\n",
       "Supports the Common Core State Standards</td>\n",
       "<td><img src='https://images.gr-assets.com/books/1440927240m/25817366.jpg' width='100' /></td>\n",
       "</tr>\n",
       "<tr>\n",
       "<td>24196</td>\n",
       "<td>Allegiant</td>\n",
       "<td>The faction-based society that Tris Prior once believed in is shattered - fractured by violence and power struggles and scarred by loss and betrayal. So when offered a chance to explore the world past the limits she's known, Tris is ready. Perhaps beyond the fence, she and Tobias will find a simple new life together, free from complicated lies, tangled loyalties, and painful memories.\n",
       "But Tris's new reality is even more alarming than the one she left behind. Old discoveries are quickly rendered meaningliess. Explosive new truths change the hearts of those she loves. And once again, Tris must battle to comprehend to complexities of human nature - and of herself - while facing impossible choices about courage, allegiance, sacrifice, and love.\n",
       "Told from a riveting dual perspective, ALLEGIANT, by #1 New York Timesbest-selling author Veronica Roth, brings the DIVERGENT series to a powerful conclusion while revealing the secrets of the dystopian world that has captivated millions of readers in DIVERGENT and INSURGENT.</td>\n",
       "<td><img src='https://images.gr-assets.com/books/1443368551m/24585399.jpg' width='100' /></td>\n",
       "</tr>\n",
       "<tr>\n",
       "<td>24671</td>\n",
       "<td>Insurgent (Divergent, #2)</td>\n",
       "<td>One choice can transform you--or it can destroy you. But every choice has consequences, and as unrest surges in the factions all around her, Tris Prior must continue trying to save those she loves - and herself - while grappling with haunting questions of grief and forgiveness, identity and loyalty, politics and love.\n",
       "Tris's initiation day should have been marked by celebration and victory with her chosen faction; instead, the day ended with unspeakable horrors. War now looms as conflict between the factions and their ideologies grows. And in times of war, sides must be chosen, secrets will emerge, and choices will become even more irrevocable - and even more powerful. Transformed by her own decisions but also by haunting grief and guilt, radical new discoveries, and shifting relationships, Tris must fully embrace her Divergence, even if she does not know what she may lose by doing so.\n",
       "New York Timesbestselling author Veronica Roth's much-anticipated second book of the dystopian DIVERGENT series is another intoxicating thrill ride of a story, rich with hallmark twists, heartbreaks, romance, and powerful insights about human nature.</td>\n",
       "<td><img src='https://images.gr-assets.com/books/1371066914m/13631961.jpg' width='100' /></td>\n",
       "</tr>\n",
       "</table>"
      ],
      "text/plain": [
       "<IPython.core.display.HTML object>"
      ]
     },
     "execution_count": 326,
     "metadata": {},
     "output_type": "execute_result"
    }
   ],
   "source": [
    "HTML(dataframe_to_html(books.filter(pl.col(\"item_id\").is_in(test.sample(1)[\"item_knn_recs\"][0].to_list())), [\"item_id\", \"title\", \"description\", \"image_url\"]))"
   ]
  },
  {
   "cell_type": "code",
   "execution_count": 324,
   "id": "fcb8dc72-5276-44e5-a8f5-9530e6e058df",
   "metadata": {},
   "outputs": [
    {
     "data": {
      "text/html": [
       "<table border='1'>\n",
       "<tr>\n",
       "<th>item_id</th>\n",
       "<th>title</th>\n",
       "<th>description</th>\n",
       "<th>image_url</th>\n",
       "</tr>\n",
       "<tr>\n",
       "<td>2839</td>\n",
       "<td>Five Summers</td>\n",
       "<td>Bittersweet, funny, and achingly honest,Five Summersis a story of friendship, love, and growing up that is perfect for fans of Ann Brashare's The Sisterhood of the Traveling Pants and Judy Blume's Summer Sisters.\n",
       "Four best friends, five summers of camp memories \n",
       "Emma, Skylar, Jo, and Maddie have all come back to camp for a weekend of tipsy canoe trips to the island, midnight skinny dipping in the lake, and an epic game of capture the flag--boys versus girls. But the weekend isn't quite as sunwashed as they'd imagined as the memories come flooding back. . . .\n",
       "The summer we were nine:Emma was branded \"Skylar's friend Emma\" by the infamous Adam Loring . . .\n",
       "The summer we were ten:Maddie realized she was too far into her lies to think about telling the truth . . .\n",
       "The summer we were eleven:Johanna totally freaked out during her first game of Spin the Bottle . . .\n",
       "The summer we were twelve:Skylar's love letters from her boyfriend back home were exciting to all of us--except Skylar . . .\n",
       "Our last summer together:Emma and Adam almost kissed. Jo found out Maddie's secret. Skylar did something unthinkable . . . and whether we knew it then or not, five summers of friendship began to fall apart.\n",
       "A young adult book with a friendship story that will last long after the last s'more is gone.</td>\n",
       "<td><img src='https://images.gr-assets.com/books/1362517725m/16101148.jpg' width='100' /></td>\n",
       "</tr>\n",
       "<tr>\n",
       "<td>4437</td>\n",
       "<td>An Unstill Life</td>\n",
       "<td>UNFORTUNATELY, DUE TO THE CLOSURE OF MUSA PUBLISHING, THIS BOOK IS CURRENTLY OUT OF PRINT.\n",
       "Things at home are rough for fifteen-year-old Livvie Quinn. Jules, her beloved older sister is sick again after being cancer free for almost ten years. Her mom becomes more frantic and unapproachable every day. School isn't much better. Just when she needs them most, her closest friends get boyfriends and have little time for Livvie - except to set her up on a series of disastrous blind dates.\n",
       "Livvie seeks refuge in the art room and finds Bianca, the school 'freak'. Free-spirited and confident, Bianca is everything Livvie isn't. Shaken by her mom's desperation, her sister's deteriorating condition, and abandoned by her friends, Livvie finds comfort and an attraction she never felt before with Bianca.\n",
       "When their relationship is discovered, Livvie and Bianca become victims of persecution and bullying. School authorities won't help and even forbid the pair to attend the Winter Formal as a couple. If Livvie defies them and goes, she risks expulsion and further ridicule from her classmates. At home, her mother's behavior escalates to new levels of crazy and Jules is begging for help to end the pain once and for all.\n",
       "While searching for the strength to make her life her own, Livvie must decide how far she's willing to go for the people she loves.</td>\n",
       "<td><img src='https://images.gr-assets.com/books/1385708867m/18979066.jpg' width='100' /></td>\n",
       "</tr>\n",
       "<tr>\n",
       "<td>11455</td>\n",
       "<td>The Romantics</td>\n",
       "<td>Perfect for fans of Lauren Myracle and Rainbow Rowell, The Romantics will charm readers of all ages. Gael Brennan is about to have his heart broken when his first big relationship crumbles on the heels of his parents' painful separation. Love intervenes with the intention of setting things right--but she doesn't anticipate the intrusion of her dreaded nemesis: the Rebound. Love's plans for Gael are sidetracked by Cara, Gael's hot-sauce-wielding \"dream girl.\" The more Love meddles, the further Gael drifts from the one girl who can help him mend his heart. Soon Love starts breaking all her own rules--and in order to set Gael's fate back on course, she has to make some tough decisions about what it means to truly care.</td>\n",
       "<td><img src='https://images.gr-assets.com/books/1465274862m/29917071.jpg' width='100' /></td>\n",
       "</tr>\n",
       "<tr>\n",
       "<td>16558</td>\n",
       "<td>Starting From Here</td>\n",
       "<td>Sixteen-year-old Colby Bingham's heart has been broken too many times. Her mother has been dead for almost two years, her truck driver father is always away, her almost girlfriend just dumped her for a guy, and now she's failing chemistry.\n",
       "When a stray dog lands literally at her feet, bleeding and broken on a busy road, it seems like the Universe has it in for Colby. But the incident also knocks a chink in the walls she's built around her heart. Against her better judgment, she decides to care for the dog. But new connections mean new opportunities for heartbreak.\n",
       "Terrified of another loss, Colby bolts at the first sign of trouble, managing to alienate her best friend, her father, the cute girl pursing her, and even her dog's vet, who's taken Colby under her wing. Colby can't start over, but can she learn how to move on?</td>\n",
       "<td><img src='https://images.gr-assets.com/books/1346760169m/15987750.jpg' width='100' /></td>\n",
       "</tr>\n",
       "<tr>\n",
       "<td>17466</td>\n",
       "<td>The Disenchantments</td>\n",
       "<td>Colby and Bev have a long-standing pact: graduate, hit the road with Bev's band, and then spend the year wandering around Europe. But moments after the tour kicks off, Bev makes a shocking announcement: she's abandoning their plans - and Colby - to start college in the fall.\n",
       "But the show must go on and The Disenchantments weave through the Pacific Northwest, playing in small towns and dingy venues, while roadie- Colby struggles to deal with Bev's already-growing distance and the most important question of all: what's next?\n",
       "Morris Award-finalist Nina LaCour draws together the beauty and influences of music and art to brilliantly capture a group of friends on the brink of the rest of their lives.</td>\n",
       "<td><img src='https://images.gr-assets.com/books/1357705016m/16101171.jpg' width='100' /></td>\n",
       "</tr>\n",
       "<tr>\n",
       "<td>18192</td>\n",
       "<td>The Pause</td>\n",
       "<td>Declan seems to have it all: a family that loves him, friends he's known for years, a beautiful girlfriend he would go to the ends of the earth for.\n",
       "But there's something in Declan's past that just won't go away, that pokes and scratches at his thoughts when he's at his most vulnerable. Declan feels as if nothing will take away that pain that he has buried deep inside for so long. So he makes the only decision he thinks he has left: the decision to end it all.\n",
       "Or does he? As the train approaches and Declan teeters at the edge of the platform, two versions of his life are revealed. In one, Declan watches as his body is destroyed and the lives of those who loved him unravel. In the other, Declan pauses before he jumps. And this makes all the difference.\n",
       "One moment. One pause. One whole new life.\n",
       "From author of The Shadow Girl, winner of the Victorian Premier's Literary Awards 2012 Prize for Writing for Young Adults, comes a breathtaking new novel that will make you reconsider the road you're travelling and the tracks you're leaving behind.</td>\n",
       "<td><img src='https://images.gr-assets.com/books/1423471016m/24036930.jpg' width='100' /></td>\n",
       "</tr>\n",
       "<tr>\n",
       "<td>18472</td>\n",
       "<td>My Year Zero</td>\n",
       "<td>Lauren thinks she has a pretty good life--so why is it that she feels crazy most of the time? She figures it's nothing she can't fix by getting her first girlfriend and doing better at school. But how is she ever going to find a girlfriend in Duluth, Minnesota?\n",
       "When she meets a group of kids who are telling a science fiction story online and gets invited down to the Twin Cities, she gets more attention than she ever expected, from two very different girls: charming Sierra and troublesome Blake.\n",
       "Blake helps Lauren understand that she's not the crazy one in her life. But Blake's attention--and insights into life and living with bipolar disorder--threaten to destroy everything Lauren has created for herself, including her relationship with Sierra.</td>\n",
       "<td><img src='https://images.gr-assets.com/books/1444713366m/26029184.jpg' width='100' /></td>\n",
       "</tr>\n",
       "<tr>\n",
       "<td>23691</td>\n",
       "<td>Signed, Skye Harper</td>\n",
       "<td>In trying to reunite with her mother, Winston discovers the many meanings of family and finds friendship in an unexpected place in this coming-of-age novel from the author of Waiting, which Kirkus Reviews, in a starred review, called \"exceptional\" and Glimpse, which Booklist called \"gripping.\"\n",
       "Life is just fine for fourteen-year-old Winston. She loves her dog, Thelma, and although she never knew her dad, and her mom left ten years ago in search of Hollywood fame, Winston has family with Nanny, who is in her forties, and that doesn't even make her old. But a \"just fine\" life gets a lot more exciting when a letter arrives from Skye Harper, aka Judith Fletcher, aka Winston's mother. She needs help, and Nanny says the best way to give it is to take a cross-country road trip--in a \"borrowed\" motor home--to go find Mama once and for all. Winston's not so sure about this plan, but with a cute stowaway named Steve along for company and an adventure on the horizon, this is sure to be a summer to remember.</td>\n",
       "<td><img src='https://images.gr-assets.com/books/1387766229m/18631964.jpg' width='100' /></td>\n",
       "</tr>\n",
       "<tr>\n",
       "<td>25714</td>\n",
       "<td>It's Our Prom</td>\n",
       "<td>When Azure's principal gives her the chance to turn the school's traditional (and boring) senior prom into an event that will appeal to everyone, not just the jocks and cheerleaders, she jumps at the opportunity. Soon Azure manages to convince her best friends, Luke and Radhika, to join the prom committee as well.\n",
       "Facing heavy opposition and admittedly clueless about prom logistics, the three friends are nonetheless determined to succeed -- if Luke's and Azure's secret crushes on Radhika don't push the committee members, and their friendships, to the breaking point first.\n",
       "Told in two voices and filled with comical missed connections, It's Our Prom (So Deal With It)explores the ups and downs of planning an alternative prom -- while dealing with an unrequited crush on your best friend -- and shines with National Book Award finalist Julie Anne Peters's unmistakable wit and insight.</td>\n",
       "<td><img src='https://images.gr-assets.com/books/1350983562m/15790836.jpg' width='100' /></td>\n",
       "</tr>\n",
       "<tr>\n",
       "<td>25820</td>\n",
       "<td>Lies Like Love</td>\n",
       "<td>Lies Like Love is the haunting and heart-breaking new novel from Louisa Reid, critically acclaimed author of Black Heart Blue.\n",
       "LIES\n",
       "'There were a few problems . . . bullying . . . a fire . . .'\n",
       "LIKE'\n",
       "I think she's verging on psychosis . . . now she's lashing out.\n",
       "' LOVE'\n",
       "She's got no one else to fight for her.'\n",
       "Sixteen year-old Audrey just wants to be normal.She's trying to fit in.But what happens when the person closest to you suffocates you with their love?What happens then?</td>\n",
       "<td><img src='https://images.gr-assets.com/books/1394087974m/17625212.jpg' width='100' /></td>\n",
       "</tr>\n",
       "</table>"
      ],
      "text/plain": [
       "<IPython.core.display.HTML object>"
      ]
     },
     "execution_count": 324,
     "metadata": {},
     "output_type": "execute_result"
    }
   ],
   "source": [
    "HTML(dataframe_to_html(books.filter(pl.col(\"item_id\").is_in(test.sample(1)[\"item_knn_recs\"][0].to_list())), [\"item_id\", \"title\", \"description\", \"image_url\"]))"
   ]
  },
  {
   "cell_type": "markdown",
   "id": "d48b3804-3295-4b4f-8223-40ec374db1b4",
   "metadata": {},
   "source": [
    "Выглядит достаточно персонализированно. Но, кажется, на десяток \"наиболее похожих\" приходятся скорее разные издания одной книги, нежели различные книги, которые часто читают вместе. "
   ]
  },
  {
   "cell_type": "markdown",
   "id": "3f22f425-f2d1-42c9-96b7-6dc5f9374766",
   "metadata": {},
   "source": [
    "#### Немного EDA"
   ]
  },
  {
   "cell_type": "code",
   "execution_count": 327,
   "id": "4b63fc3c-a2b2-4b97-b7b0-eb9d1399e148",
   "metadata": {},
   "outputs": [
    {
     "data": {
      "image/png": "[encoded data removed]",
      "text/plain": [
       "<Figure size 1000x600 with 1 Axes>"
      ]
     },
     "metadata": {},
     "output_type": "display_data"
    }
   ],
   "source": [
    "first_items = (\n",
    "    pl.DataFrame({\n",
    "        \"item_id\": test[\"item_knn_recs\"].list.first()\n",
    "    })\n",
    "    .join(\n",
    "        books.select(\"item_id\", \"title\"),\n",
    "        on=\"item_id\",\n",
    "        how=\"left\"\n",
    "    )\n",
    "    .group_by(\"title\")\n",
    "    .agg(pl.len().alias(\"count\"))\n",
    "    .sort(\"count\", descending=True)\n",
    "    .with_columns(\n",
    "        (pl.col(\"count\") / pl.col(\"count\").sum()).alias(\"proportion\")\n",
    "    )\n",
    ")\n",
    "\n",
    "top_10 = first_items.head(10)\n",
    "plt.figure(figsize=(10, 6))\n",
    "plt.bar(top_10[\"title\"].to_list(), top_10[\"proportion\"].to_list())\n",
    "plt.ylabel(\"Доля от всех рекомендаций\")\n",
    "plt.title(\"Распределение книг на первых местах\")\n",
    "plt.xticks(rotation=90, ha=\"right\")\n",
    "plt.tight_layout()\n",
    "plt.show()"
   ]
  },
  {
   "cell_type": "markdown",
   "id": "e1c76828-99d7-42f0-8420-8c6957e5cbc1",
   "metadata": {},
   "source": [
    "Кстати, а может ли такой алгоритм порекомендовать \"холодные\" айтемы?"
   ]
  },
  {
   "cell_type": "code",
   "execution_count": null,
   "id": "d7451f28-11c1-4595-8382-7a0b36544452",
   "metadata": {},
   "outputs": [],
   "source": []
  }
 ],
 "metadata": {
  "kernelspec": {
   "display_name": "Python 3 (ipykernel)",
   "language": "python",
   "name": "local/python3"
  },
  "language_info": {
   "codemirror_mode": {
    "name": "ipython",
    "version": 3
   },
   "file_extension": ".py",
   "mimetype": "text/x-python",
   "name": "python",
   "nbconvert_exporter": "python",
   "pygments_lexer": "ipython3",
   "version": "3.10.18"
  }
 },
 "nbformat": 4,
 "nbformat_minor": 5
}
