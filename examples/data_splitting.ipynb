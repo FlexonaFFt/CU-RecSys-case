{
 "cells": [
  {
   "cell_type": "markdown",
   "id": "2e228f6b-4675-4b3b-9d54-797a0bd4553b",
   "metadata": {},
   "source": [
    "Предобработка исходного датасета, чтобы с ним можно было работать."
   ]
  },
  {
   "cell_type": "markdown",
   "id": "9d1955fb-765c-4307-8053-fffa3f6ba2a9",
   "metadata": {},
   "source": [
    "# Импорты и библиотеки"
   ]
  },
  {
   "cell_type": "code",
   "execution_count": 4,
   "id": "2bc59c79-19ba-452b-8e3e-9f9d90b460d5",
   "metadata": {},
   "outputs": [
    {
     "name": "stdout",
     "output_type": "stream",
     "text": [
      "\n",
      "\u001b[1m[\u001b[0m\u001b[34;49mnotice\u001b[0m\u001b[1;39;49m]\u001b[0m\u001b[39;49m A new release of pip is available: \u001b[0m\u001b[31;49m24.0\u001b[0m\u001b[39;49m -> \u001b[0m\u001b[32;49m25.2\u001b[0m\n",
      "\u001b[1m[\u001b[0m\u001b[34;49mnotice\u001b[0m\u001b[1;39;49m]\u001b[0m\u001b[39;49m To update, run: \u001b[0m\u001b[32;49mpython3.10 -m pip install --upgrade pip\u001b[0m\n"
     ]
    }
   ],
   "source": [
    "!pip install -q polars langdetect tqdm"
   ]
  },
  {
   "cell_type": "code",
   "execution_count": 65,
   "id": "6ad3c41c-54fa-4e15-8642-ff6cff358aaf",
   "metadata": {},
   "outputs": [],
   "source": [
    "import polars as pl\n",
    "from langdetect import detect\n",
    "from datetime import datetime as dt\n",
    "from tqdm.notebook import tqdm\n",
    "\n",
    "\n",
    "def detect_languages(texts: list[str]):\n",
    "    languages = []\n",
    "    for text in tqdm(texts):\n",
    "        try:\n",
    "            languages.append(detect(text))\n",
    "        except Exception as e:\n",
    "            print(f\"Error detecting language: {e}\")\n",
    "            languages.append(\"\")\n",
    "    return languages"
   ]
  },
  {
   "cell_type": "markdown",
   "id": "a88ff98c-5e8e-4ce7-a8b1-9957b74ed2ef",
   "metadata": {},
   "source": [
    "# Скачиваем данные"
   ]
  },
  {
   "cell_type": "code",
   "execution_count": 50,
   "id": "2bdf0557-122b-4a40-a1f8-2fbc5a6be55b",
   "metadata": {},
   "outputs": [
    {
     "name": "stdout",
     "output_type": "stream",
     "text": [
      "raw_data/interactio 100%[===================>]   1.71G  17.8MB/s    in 1m 42s  \n",
      "raw_data/books.json 100%[===================>] 100.18M  16.6MB/s    in 7.2s    \n"
     ]
    }
   ],
   "source": [
    "!mkdir -p raw_data  \n",
    "!wget -q --show-progress -O raw_data/interactions.json.gz https://mcauleylab.ucsd.edu/public_datasets/gdrive/goodreads/byGenre/goodreads_interactions_young_adult.json.gz\n",
    "!wget -q --show-progress -O raw_data/books.json.gz https://mcauleylab.ucsd.edu/public_datasets/gdrive/goodreads/byGenre/goodreads_books_young_adult.json.gz\n"
   ]
  },
  {
   "cell_type": "code",
   "execution_count": 92,
   "id": "42f64758-3fb9-4e35-b11f-6ef68054eea2",
   "metadata": {},
   "outputs": [
    {
     "name": "stdout",
     "output_type": "stream",
     "text": [
      "Books:\n",
      "(93398, 29)\n"
     ]
    },
    {
     "data": {
      "text/html": [
       "<div><style>\n",
       ".dataframe > thead > tr,\n",
       ".dataframe > tbody > tr {\n",
       "  text-align: right;\n",
       "  white-space: pre-wrap;\n",
       "}\n",
       "</style>\n",
       "<small>shape: (5, 29)</small><table border=\"1\" class=\"dataframe\"><thead><tr><th>isbn</th><th>text_reviews_count</th><th>series</th><th>country_code</th><th>language_code</th><th>popular_shelves</th><th>asin</th><th>is_ebook</th><th>average_rating</th><th>kindle_asin</th><th>similar_books</th><th>description</th><th>format</th><th>link</th><th>authors</th><th>publisher</th><th>num_pages</th><th>publication_day</th><th>isbn13</th><th>publication_month</th><th>edition_information</th><th>publication_year</th><th>url</th><th>image_url</th><th>book_id</th><th>ratings_count</th><th>work_id</th><th>title</th><th>title_without_series</th></tr><tr><td>str</td><td>str</td><td>list[str]</td><td>str</td><td>str</td><td>list[struct[2]]</td><td>str</td><td>str</td><td>str</td><td>str</td><td>list[str]</td><td>str</td><td>str</td><td>str</td><td>list[struct[2]]</td><td>str</td><td>str</td><td>str</td><td>str</td><td>str</td><td>str</td><td>str</td><td>str</td><td>str</td><td>str</td><td>str</td><td>str</td><td>str</td><td>str</td></tr></thead><tbody><tr><td>&quot;&quot;</td><td>&quot;1&quot;</td><td>[&quot;147734&quot;]</td><td>&quot;US&quot;</td><td>&quot;&quot;</td><td>[{&quot;1057&quot;,&quot;to-read&quot;}, {&quot;101&quot;,&quot;young-adult&quot;}, … {&quot;2&quot;,&quot;vampire&quot;}]</td><td>&quot;B0056A00P4&quot;</td><td>&quot;true&quot;</td><td>&quot;4.04&quot;</td><td>&quot;B0056A00P4&quot;</td><td>[&quot;519546&quot;, &quot;1295074&quot;, &quot;21407416&quot;]</td><td>&quot;This is the final tale in the …</td><td>&quot;&quot;</td><td>&quot;https://www.goodreads.com/book…</td><td>[{&quot;50873&quot;,&quot;&quot;}, {&quot;232533&quot;,&quot;Ubersetzer&quot;}]</td><td>&quot;&quot;</td><td>&quot;&quot;</td><td>&quot;&quot;</td><td>&quot;&quot;</td><td>&quot;&quot;</td><td>&quot;&quot;</td><td>&quot;&quot;</td><td>&quot;https://www.goodreads.com/book…</td><td>&quot;https://s.gr-assets.com/assets…</td><td>&quot;12182387&quot;</td><td>&quot;4&quot;</td><td>&quot;285263&quot;</td><td>&quot;The Passion (Dark Visions, #3)&quot;</td><td>&quot;The Passion (Dark Visions, #3)&quot;</td></tr><tr><td>&quot;&quot;</td><td>&quot;2&quot;</td><td>[&quot;425995&quot;]</td><td>&quot;US&quot;</td><td>&quot;&quot;</td><td>[{&quot;1010&quot;,&quot;to-read&quot;}, {&quot;17&quot;,&quot;sci-fi&quot;}, … {&quot;1&quot;,&quot;owned-not-read&quot;}]</td><td>&quot;B006KLYIAG&quot;</td><td>&quot;true&quot;</td><td>&quot;3.80&quot;</td><td>&quot;B006KLYIAG&quot;</td><td>[&quot;13400912&quot;, &quot;13327517&quot;, … &quot;18460869&quot;]</td><td>&quot;Life should be simple for Cass…</td><td>&quot;&quot;</td><td>&quot;https://www.goodreads.com/book…</td><td>[{&quot;5395324&quot;,&quot;&quot;}]</td><td>&quot;&quot;</td><td>&quot;&quot;</td><td>&quot;&quot;</td><td>&quot;&quot;</td><td>&quot;&quot;</td><td>&quot;&quot;</td><td>&quot;&quot;</td><td>&quot;https://www.goodreads.com/book…</td><td>&quot;https://s.gr-assets.com/assets…</td><td>&quot;20135365&quot;</td><td>&quot;5&quot;</td><td>&quot;18450480&quot;</td><td>&quot;Hope&#x27;s Daughter&quot;</td><td>&quot;Hope&#x27;s Daughter&quot;</td></tr><tr><td>&quot;0698143760&quot;</td><td>&quot;17&quot;</td><td>[&quot;493993&quot;]</td><td>&quot;US&quot;</td><td>&quot;&quot;</td><td>[{&quot;1799&quot;,&quot;fantasy&quot;}, {&quot;1283&quot;,&quot;young-adult&quot;}, … {&quot;22&quot;,&quot;first-in-a-series&quot;}]</td><td>&quot;&quot;</td><td>&quot;true&quot;</td><td>&quot;3.80&quot;</td><td>&quot;&quot;</td><td>[&quot;15728807&quot;, &quot;17182499&quot;, … &quot;15801763&quot;]</td><td>&quot;Wanted by no one.\n",
       "Hunted by ev…</td><td>&quot;ebook&quot;</td><td>&quot;https://www.goodreads.com/book…</td><td>[{&quot;7314532&quot;,&quot;&quot;}]</td><td>&quot;Viking Children&#x27;s&quot;</td><td>&quot;416&quot;</td><td>&quot;4&quot;</td><td>&quot;9780698143760&quot;</td><td>&quot;3&quot;</td><td>&quot;&quot;</td><td>&quot;2014&quot;</td><td>&quot;https://www.goodreads.com/book…</td><td>&quot;https://images.gr-assets.com/b…</td><td>&quot;21401181&quot;</td><td>&quot;33&quot;</td><td>&quot;24802827&quot;</td><td>&quot;Half Bad (Half Life, #1)&quot;</td><td>&quot;Half Bad (Half Life, #1)&quot;</td></tr><tr><td>&quot;&quot;</td><td>&quot;9&quot;</td><td>[&quot;176160&quot;]</td><td>&quot;US&quot;</td><td>&quot;eng&quot;</td><td>[{&quot;7173&quot;,&quot;to-read&quot;}, {&quot;235&quot;,&quot;vampires&quot;}, … {&quot;3&quot;,&quot;high-school-life&quot;}]</td><td>&quot;B0042JSOQC&quot;</td><td>&quot;true&quot;</td><td>&quot;4.35&quot;</td><td>&quot;B004IYJDXY&quot;</td><td>[&quot;25861113&quot;, &quot;7430195&quot;, … &quot;10874337&quot;]</td><td>&quot;It all comes down to this.\n",
       "Vla…</td><td>&quot;&quot;</td><td>&quot;https://www.goodreads.com/book…</td><td>[{&quot;293603&quot;,&quot;&quot;}]</td><td>&quot;&quot;</td><td>&quot;&quot;</td><td>&quot;&quot;</td><td>&quot;&quot;</td><td>&quot;&quot;</td><td>&quot;&quot;</td><td>&quot;&quot;</td><td>&quot;https://www.goodreads.com/book…</td><td>&quot;https://s.gr-assets.com/assets…</td><td>&quot;10099492&quot;</td><td>&quot;152&quot;</td><td>&quot;10800440&quot;</td><td>&quot;Twelfth Grade Kills (The Chron…</td><td>&quot;Twelfth Grade Kills (The Chron…</td></tr><tr><td>&quot;0990662616&quot;</td><td>&quot;428&quot;</td><td>[]</td><td>&quot;US&quot;</td><td>&quot;eng&quot;</td><td>[{&quot;9481&quot;,&quot;to-read&quot;}, {&quot;196&quot;,&quot;young-adult&quot;}, … {&quot;3&quot;,&quot;2016-reading-list&quot;}]</td><td>&quot;&quot;</td><td>&quot;false&quot;</td><td>&quot;3.71&quot;</td><td>&quot;B00MW0MTGE&quot;</td><td>[&quot;20499652&quot;, &quot;17934493&quot;, … &quot;23281932&quot;]</td><td>&quot;The future world is at peace.\n",
       "…</td><td>&quot;Paperback&quot;</td><td>&quot;https://www.goodreads.com/book…</td><td>[{&quot;4018722&quot;,&quot;&quot;}]</td><td>&quot;Scripturient Books&quot;</td><td>&quot;351&quot;</td><td>&quot;6&quot;</td><td>&quot;9780990662617&quot;</td><td>&quot;10&quot;</td><td>&quot;Special Edition&quot;</td><td>&quot;2014&quot;</td><td>&quot;https://www.goodreads.com/book…</td><td>&quot;https://images.gr-assets.com/b…</td><td>&quot;22642971&quot;</td><td>&quot;1525&quot;</td><td>&quot;42144295&quot;</td><td>&quot;The Body Electric&quot;</td><td>&quot;The Body Electric&quot;</td></tr></tbody></table></div>"
      ],
      "text/plain": [
       "shape: (5, 29)\n",
       "┌───────────┬───────────┬───────────┬───────────┬───┬───────────┬──────────┬───────────┬───────────┐\n",
       "│ isbn      ┆ text_revi ┆ series    ┆ country_c ┆ … ┆ ratings_c ┆ work_id  ┆ title     ┆ title_wit │\n",
       "│ ---       ┆ ews_count ┆ ---       ┆ ode       ┆   ┆ ount      ┆ ---      ┆ ---       ┆ hout_seri │\n",
       "│ str       ┆ ---       ┆ list[str] ┆ ---       ┆   ┆ ---       ┆ str      ┆ str       ┆ es        │\n",
       "│           ┆ str       ┆           ┆ str       ┆   ┆ str       ┆          ┆           ┆ ---       │\n",
       "│           ┆           ┆           ┆           ┆   ┆           ┆          ┆           ┆ str       │\n",
       "╞═══════════╪═══════════╪═══════════╪═══════════╪═══╪═══════════╪══════════╪═══════════╪═══════════╡\n",
       "│           ┆ 1         ┆ [\"147734\" ┆ US        ┆ … ┆ 4         ┆ 285263   ┆ The       ┆ The       │\n",
       "│           ┆           ┆ ]         ┆           ┆   ┆           ┆          ┆ Passion   ┆ Passion   │\n",
       "│           ┆           ┆           ┆           ┆   ┆           ┆          ┆ (Dark     ┆ (Dark     │\n",
       "│           ┆           ┆           ┆           ┆   ┆           ┆          ┆ Visions,  ┆ Visions,  │\n",
       "│           ┆           ┆           ┆           ┆   ┆           ┆          ┆ #3)       ┆ #3)       │\n",
       "│           ┆ 2         ┆ [\"425995\" ┆ US        ┆ … ┆ 5         ┆ 18450480 ┆ Hope's    ┆ Hope's    │\n",
       "│           ┆           ┆ ]         ┆           ┆   ┆           ┆          ┆ Daughter  ┆ Daughter  │\n",
       "│ 069814376 ┆ 17        ┆ [\"493993\" ┆ US        ┆ … ┆ 33        ┆ 24802827 ┆ Half Bad  ┆ Half Bad  │\n",
       "│ 0         ┆           ┆ ]         ┆           ┆   ┆           ┆          ┆ (Half     ┆ (Half     │\n",
       "│           ┆           ┆           ┆           ┆   ┆           ┆          ┆ Life, #1) ┆ Life, #1) │\n",
       "│           ┆ 9         ┆ [\"176160\" ┆ US        ┆ … ┆ 152       ┆ 10800440 ┆ Twelfth   ┆ Twelfth   │\n",
       "│           ┆           ┆ ]         ┆           ┆   ┆           ┆          ┆ Grade     ┆ Grade     │\n",
       "│           ┆           ┆           ┆           ┆   ┆           ┆          ┆ Kills     ┆ Kills     │\n",
       "│           ┆           ┆           ┆           ┆   ┆           ┆          ┆ (The      ┆ (The      │\n",
       "│           ┆           ┆           ┆           ┆   ┆           ┆          ┆ Chron…    ┆ Chron…    │\n",
       "│ 099066261 ┆ 428       ┆ []        ┆ US        ┆ … ┆ 1525      ┆ 42144295 ┆ The Body  ┆ The Body  │\n",
       "│ 6         ┆           ┆           ┆           ┆   ┆           ┆          ┆ Electric  ┆ Electric  │\n",
       "└───────────┴───────────┴───────────┴───────────┴───┴───────────┴──────────┴───────────┴───────────┘"
      ]
     },
     "metadata": {},
     "output_type": "display_data"
    },
    {
     "name": "stdout",
     "output_type": "stream",
     "text": [
      "Interactions:\n",
      "(34919254, 10)\n"
     ]
    },
    {
     "data": {
      "text/html": [
       "<div><style>\n",
       ".dataframe > thead > tr,\n",
       ".dataframe > tbody > tr {\n",
       "  text-align: right;\n",
       "  white-space: pre-wrap;\n",
       "}\n",
       "</style>\n",
       "<small>shape: (5, 10)</small><table border=\"1\" class=\"dataframe\"><thead><tr><th>user_id</th><th>book_id</th><th>review_id</th><th>is_read</th><th>rating</th><th>review_text_incomplete</th><th>date_added</th><th>date_updated</th><th>read_at</th><th>started_at</th></tr><tr><td>str</td><td>str</td><td>str</td><td>bool</td><td>i64</td><td>str</td><td>str</td><td>str</td><td>str</td><td>str</td></tr></thead><tbody><tr><td>&quot;8842281e1d1347389f2ab93d60773d…</td><td>&quot;18667753&quot;</td><td>&quot;be53fe83a6fc83474052f84692f6e9…</td><td>false</td><td>0</td><td>&quot;&quot;</td><td>&quot;Wed Mar 29 00:12:52 -0700 2017&quot;</td><td>&quot;Wed Mar 29 00:12:52 -0700 2017&quot;</td><td>&quot;&quot;</td><td>&quot;&quot;</td></tr><tr><td>&quot;8842281e1d1347389f2ab93d60773d…</td><td>&quot;428263&quot;</td><td>&quot;2030f56879ebcc307a4b9cd8c83200…</td><td>false</td><td>0</td><td>&quot;&quot;</td><td>&quot;Mon Mar 27 22:01:42 -0700 2017&quot;</td><td>&quot;Mon Mar 27 22:01:42 -0700 2017&quot;</td><td>&quot;&quot;</td><td>&quot;&quot;</td></tr><tr><td>&quot;8842281e1d1347389f2ab93d60773d…</td><td>&quot;11387515&quot;</td><td>&quot;2fd3cd1acb30b099c135e358669639…</td><td>false</td><td>0</td><td>&quot;&quot;</td><td>&quot;Thu Jan 26 13:35:10 -0800 2017&quot;</td><td>&quot;Thu Jan 26 13:35:10 -0800 2017&quot;</td><td>&quot;&quot;</td><td>&quot;&quot;</td></tr><tr><td>&quot;8842281e1d1347389f2ab93d60773d…</td><td>&quot;8684868&quot;</td><td>&quot;d29b8238762d70b7c2b67941bc81fb…</td><td>true</td><td>3</td><td>&quot;&quot;</td><td>&quot;Tue Dec 17 13:42:25 -0800 2013&quot;</td><td>&quot;Tue Dec 17 13:47:26 -0800 2013&quot;</td><td>&quot;Sun Dec 15 00:00:00 -0800 2013&quot;</td><td>&quot;Sat Dec 14 00:00:00 -0800 2013&quot;</td></tr><tr><td>&quot;8842281e1d1347389f2ab93d60773d…</td><td>&quot;8423493&quot;</td><td>&quot;357c8c178fd0e06cff5c0256492316…</td><td>true</td><td>2</td><td>&quot;&quot;</td><td>&quot;Sun Dec 08 01:26:12 -0800 2013&quot;</td><td>&quot;Tue Dec 27 05:37:48 -0800 2016&quot;</td><td>&quot;Tue Dec 10 00:00:00 -0800 2013&quot;</td><td>&quot;&quot;</td></tr></tbody></table></div>"
      ],
      "text/plain": [
       "shape: (5, 10)\n",
       "┌────────────┬──────────┬────────────┬─────────┬───┬───────────┬───────────┬───────────┬───────────┐\n",
       "│ user_id    ┆ book_id  ┆ review_id  ┆ is_read ┆ … ┆ date_adde ┆ date_upda ┆ read_at   ┆ started_a │\n",
       "│ ---        ┆ ---      ┆ ---        ┆ ---     ┆   ┆ d         ┆ ted       ┆ ---       ┆ t         │\n",
       "│ str        ┆ str      ┆ str        ┆ bool    ┆   ┆ ---       ┆ ---       ┆ str       ┆ ---       │\n",
       "│            ┆          ┆            ┆         ┆   ┆ str       ┆ str       ┆           ┆ str       │\n",
       "╞════════════╪══════════╪════════════╪═════════╪═══╪═══════════╪═══════════╪═══════════╪═══════════╡\n",
       "│ 8842281e1d ┆ 18667753 ┆ be53fe83a6 ┆ false   ┆ … ┆ Wed Mar   ┆ Wed Mar   ┆           ┆           │\n",
       "│ 1347389f2a ┆          ┆ fc83474052 ┆         ┆   ┆ 29        ┆ 29        ┆           ┆           │\n",
       "│ b93d60773d ┆          ┆ f84692f6e9 ┆         ┆   ┆ 00:12:52  ┆ 00:12:52  ┆           ┆           │\n",
       "│ …          ┆          ┆ …          ┆         ┆   ┆ -0700     ┆ -0700     ┆           ┆           │\n",
       "│            ┆          ┆            ┆         ┆   ┆ 2017      ┆ 2017      ┆           ┆           │\n",
       "│ 8842281e1d ┆ 428263   ┆ 2030f56879 ┆ false   ┆ … ┆ Mon Mar   ┆ Mon Mar   ┆           ┆           │\n",
       "│ 1347389f2a ┆          ┆ ebcc307a4b ┆         ┆   ┆ 27        ┆ 27        ┆           ┆           │\n",
       "│ b93d60773d ┆          ┆ 9cd8c83200 ┆         ┆   ┆ 22:01:42  ┆ 22:01:42  ┆           ┆           │\n",
       "│ …          ┆          ┆ …          ┆         ┆   ┆ -0700     ┆ -0700     ┆           ┆           │\n",
       "│            ┆          ┆            ┆         ┆   ┆ 2017      ┆ 2017      ┆           ┆           │\n",
       "│ 8842281e1d ┆ 11387515 ┆ 2fd3cd1acb ┆ false   ┆ … ┆ Thu Jan   ┆ Thu Jan   ┆           ┆           │\n",
       "│ 1347389f2a ┆          ┆ 30b099c135 ┆         ┆   ┆ 26        ┆ 26        ┆           ┆           │\n",
       "│ b93d60773d ┆          ┆ e358669639 ┆         ┆   ┆ 13:35:10  ┆ 13:35:10  ┆           ┆           │\n",
       "│ …          ┆          ┆ …          ┆         ┆   ┆ -0800     ┆ -0800     ┆           ┆           │\n",
       "│            ┆          ┆            ┆         ┆   ┆ 2017      ┆ 2017      ┆           ┆           │\n",
       "│ 8842281e1d ┆ 8684868  ┆ d29b823876 ┆ true    ┆ … ┆ Tue Dec   ┆ Tue Dec   ┆ Sun Dec   ┆ Sat Dec   │\n",
       "│ 1347389f2a ┆          ┆ 2d70b7c2b6 ┆         ┆   ┆ 17        ┆ 17        ┆ 15        ┆ 14        │\n",
       "│ b93d60773d ┆          ┆ 7941bc81fb ┆         ┆   ┆ 13:42:25  ┆ 13:47:26  ┆ 00:00:00  ┆ 00:00:00  │\n",
       "│ …          ┆          ┆ …          ┆         ┆   ┆ -0800     ┆ -0800     ┆ -0800     ┆ -0800     │\n",
       "│            ┆          ┆            ┆         ┆   ┆ 2013      ┆ 2013      ┆ 2013      ┆ 2013      │\n",
       "│ 8842281e1d ┆ 8423493  ┆ 357c8c178f ┆ true    ┆ … ┆ Sun Dec   ┆ Tue Dec   ┆ Tue Dec   ┆           │\n",
       "│ 1347389f2a ┆          ┆ d0e06cff5c ┆         ┆   ┆ 08        ┆ 27        ┆ 10        ┆           │\n",
       "│ b93d60773d ┆          ┆ 0256492316 ┆         ┆   ┆ 01:26:12  ┆ 05:37:48  ┆ 00:00:00  ┆           │\n",
       "│ …          ┆          ┆ …          ┆         ┆   ┆ -0800     ┆ -0800     ┆ -0800     ┆           │\n",
       "│            ┆          ┆            ┆         ┆   ┆ 2013      ┆ 2016      ┆ 2013      ┆           │\n",
       "└────────────┴──────────┴────────────┴─────────┴───┴───────────┴───────────┴───────────┴───────────┘"
      ]
     },
     "metadata": {},
     "output_type": "display_data"
    },
    {
     "name": "stdout",
     "output_type": "stream",
     "text": [
      "CPU times: user 2min, sys: 17 s, total: 2min 17s\n",
      "Wall time: 57.2 s\n"
     ]
    }
   ],
   "source": [
    "%%time\n",
    "\n",
    "data_folder = \"raw_data/\"\n",
    "\n",
    "books = pl.read_ndjson(data_folder + \"books.json.gz\")\n",
    "print(\"Books:\")\n",
    "print(books.shape)\n",
    "display(books.head(5))\n",
    "\n",
    "interactions = pl.read_ndjson(data_folder + \"interactions.json.gz\")\n",
    "print(\"Interactions:\")\n",
    "print(interactions.shape)\n",
    "display(interactions.head(5))"
   ]
  },
  {
   "cell_type": "markdown",
   "id": "223494da-1dd3-43a9-98a7-a4d91bb3ea95",
   "metadata": {},
   "source": [
    "# Небольшая предобработка"
   ]
  },
  {
   "cell_type": "code",
   "execution_count": 6,
   "id": "d1cf4e39-866a-40df-8cfb-16f159a4d362",
   "metadata": {},
   "outputs": [
    {
     "data": {
      "application/vnd.jupyter.widget-view+json": {
       "model_id": "de32b43ac652492b88de9e79a4c1d6b2",
       "version_major": 2,
       "version_minor": 0
      },
      "text/plain": [
       "  0%|          | 0/93398 [00:00<?, ?it/s]"
      ]
     },
     "metadata": {},
     "output_type": "display_data"
    },
    {
     "name": "stdout",
     "output_type": "stream",
     "text": [
      "Error detecting language: No features in text.\n",
      "Error detecting language: No features in text.\n",
      "Error detecting language: No features in text.\n"
     ]
    }
   ],
   "source": [
    "languages = detect_languages((books[\"title\"] + \" \" + books[\"description\"]).to_list())\n",
    "\n",
    "books = (\n",
    "    books\n",
    "    .with_columns(\n",
    "        language=pl.Series(\"language\", languages),\n",
    "        preprocessed_title=pl.col(\"title\")\n",
    "            .str.to_lowercase()\n",
    "            .str.replace_all(r\"[^a-z0-9 ]\", \"\"),\n",
    "        tags=pl.col(\"popular_shelves\").list.eval(pl.element().struct.field(\"name\"))\n",
    "    )\n",
    "    .filter(\n",
    "        # removing definitely non-English\n",
    "        pl.col(\"language\").eq(\"en\") & (pl.col(\"language_code\").str.to_lowercase().str.contains(\"eng\") | pl.col(\"language_code\").eq(\"\"))\n",
    "    )\n",
    ")"
   ]
  },
  {
   "cell_type": "code",
   "execution_count": 94,
   "id": "104f8980-0275-44d8-8c65-b109f08f8e18",
   "metadata": {},
   "outputs": [
    {
     "name": "stdout",
     "output_type": "stream",
     "text": [
      "Books:\n",
      "(34322, 8)\n"
     ]
    },
    {
     "data": {
      "text/html": [
       "<div><style>\n",
       ".dataframe > thead > tr,\n",
       ".dataframe > tbody > tr {\n",
       "  text-align: right;\n",
       "  white-space: pre-wrap;\n",
       "}\n",
       "</style>\n",
       "<small>shape: (5, 8)</small><table border=\"1\" class=\"dataframe\"><thead><tr><th>item_id</th><th>series</th><th>tags</th><th>title</th><th>description</th><th>url</th><th>image_url</th><th>authors</th></tr><tr><td>i64</td><td>list[str]</td><td>list[str]</td><td>str</td><td>str</td><td>str</td><td>str</td><td>list[struct[2]]</td></tr></thead><tbody><tr><td>25709</td><td>[null]</td><td>[&quot;sports-novel&quot;, &quot;books-i-need-to-get&quot;, … &quot;lending-library&quot;]</td><td>&quot;On the Devil&#x27;s Court&quot;</td><td>&quot;What would you give to be your…</td><td>&quot;https://www.goodreads.com/book…</td><td>&quot;https://s.gr-assets.com/assets…</td><td>[{&quot;64925&quot;,&quot;&quot;}]</td></tr><tr><td>10135</td><td>[null]</td><td>[&quot;rosie-wanabees&quot;, &quot;will-not-read&quot;, … &quot;out-of-print&quot;]</td><td>&quot;This Is Push: New Stories from…</td><td>&quot;An anthology of new writing fr…</td><td>&quot;https://www.goodreads.com/book…</td><td>&quot;https://images.gr-assets.com/b…</td><td>[{&quot;213829&quot;,&quot;&quot;}, {&quot;81583&quot;,&quot;&quot;}, … {&quot;85088&quot;,&quot;&quot;}]</td></tr><tr><td>26915</td><td>[null]</td><td>[&quot;family&quot;, &quot;read-2010&quot;, … &quot;male-protagonist&quot;]</td><td>&quot;The Cardturner: A Novel About …</td><td>&quot;From Louis Sachar, New York Ti…</td><td>&quot;https://www.goodreads.com/book…</td><td>&quot;https://s.gr-assets.com/assets…</td><td>[{&quot;6569&quot;,&quot;&quot;}]</td></tr><tr><td>18248</td><td>[&quot;534689&quot;]</td><td>[&quot;2nd-chance&quot;, &quot;m-f-reads&quot;, … &quot;love-story&quot;]</td><td>&quot;Love to Love Her (Silver State…</td><td>&quot;When Blake and Rhiannon meet o…</td><td>&quot;https://www.goodreads.com/book…</td><td>&quot;https://images.gr-assets.com/b…</td><td>[{&quot;7059358&quot;,&quot;&quot;}]</td></tr><tr><td>22038</td><td>[null]</td><td>[&quot;arc&quot;, &quot;young-adult&quot;, … &quot;currently-reading&quot;]</td><td>&quot;Privileged Positions&quot;</td><td>&quot;Privileged Positions,a trade p…</td><td>&quot;https://www.goodreads.com/book…</td><td>&quot;https://images.gr-assets.com/b…</td><td>[{&quot;5363536&quot;,&quot;&quot;}, {&quot;5363535&quot;,&quot;&quot;}]</td></tr></tbody></table></div>"
      ],
      "text/plain": [
       "shape: (5, 8)\n",
       "┌─────────┬────────────┬────────────┬────────────┬────────────┬────────────┬───────────┬───────────┐\n",
       "│ item_id ┆ series     ┆ tags       ┆ title      ┆ descriptio ┆ url        ┆ image_url ┆ authors   │\n",
       "│ ---     ┆ ---        ┆ ---        ┆ ---        ┆ n          ┆ ---        ┆ ---       ┆ ---       │\n",
       "│ i64     ┆ list[str]  ┆ list[str]  ┆ str        ┆ ---        ┆ str        ┆ str       ┆ list[stru │\n",
       "│         ┆            ┆            ┆            ┆ str        ┆            ┆           ┆ ct[2]]    │\n",
       "╞═════════╪════════════╪════════════╪════════════╪════════════╪════════════╪═══════════╪═══════════╡\n",
       "│ 25709   ┆ [null]     ┆ [\"sports-n ┆ On the     ┆ What would ┆ https://ww ┆ https://s ┆ [{\"64925\" │\n",
       "│         ┆            ┆ ovel\", \"bo ┆ Devil's    ┆ you give   ┆ w.goodread ┆ .gr-asset ┆ ,\"\"}]     │\n",
       "│         ┆            ┆ oks-i-need ┆ Court      ┆ to be      ┆ s.com/book ┆ s.com/ass ┆           │\n",
       "│         ┆            ┆ …          ┆            ┆ your…      ┆ …          ┆ ets…      ┆           │\n",
       "│ 10135   ┆ [null]     ┆ [\"rosie-wa ┆ This Is    ┆ An         ┆ https://ww ┆ https://i ┆ [{\"213829 │\n",
       "│         ┆            ┆ nabees\",   ┆ Push: New  ┆ anthology  ┆ w.goodread ┆ mages.gr- ┆ \",\"\"},    │\n",
       "│         ┆            ┆ \"will-not- ┆ Stories    ┆ of new     ┆ s.com/book ┆ assets.co ┆ {\"81583\", │\n",
       "│         ┆            ┆ r…         ┆ from…      ┆ writing    ┆ …          ┆ m/b…      ┆ \"\"}, …    │\n",
       "│         ┆            ┆            ┆            ┆ fr…        ┆            ┆           ┆           │\n",
       "│ 26915   ┆ [null]     ┆ [\"family\", ┆ The Cardtu ┆ From Louis ┆ https://ww ┆ https://s ┆ [{\"6569\", │\n",
       "│         ┆            ┆ \"read-2010 ┆ rner: A    ┆ Sachar,    ┆ w.goodread ┆ .gr-asset ┆ \"\"}]      │\n",
       "│         ┆            ┆ \", … \"mal… ┆ Novel      ┆ New York   ┆ s.com/book ┆ s.com/ass ┆           │\n",
       "│         ┆            ┆            ┆ About …    ┆ Ti…        ┆ …          ┆ ets…      ┆           │\n",
       "│ 18248   ┆ [\"534689\"] ┆ [\"2nd-chan ┆ Love to    ┆ When Blake ┆ https://ww ┆ https://i ┆ [{\"705935 │\n",
       "│         ┆            ┆ ce\", \"m-f- ┆ Love Her   ┆ and        ┆ w.goodread ┆ mages.gr- ┆ 8\",\"\"}]   │\n",
       "│         ┆            ┆ reads\", …  ┆ (Silver    ┆ Rhiannon   ┆ s.com/book ┆ assets.co ┆           │\n",
       "│         ┆            ┆ …          ┆ State…     ┆ meet o…    ┆ …          ┆ m/b…      ┆           │\n",
       "│ 22038   ┆ [null]     ┆ [\"arc\",    ┆ Privileged ┆ Privileged ┆ https://ww ┆ https://i ┆ [{\"536353 │\n",
       "│         ┆            ┆ \"young-adu ┆ Positions  ┆ Positions, ┆ w.goodread ┆ mages.gr- ┆ 6\",\"\"},   │\n",
       "│         ┆            ┆ lt\", …     ┆            ┆ a trade p… ┆ s.com/book ┆ assets.co ┆ {\"5363535 │\n",
       "│         ┆            ┆ \"curr…     ┆            ┆            ┆ …          ┆ m/b…      ┆ \",\"\"…     │\n",
       "└─────────┴────────────┴────────────┴────────────┴────────────┴────────────┴───────────┴───────────┘"
      ]
     },
     "metadata": {},
     "output_type": "display_data"
    },
    {
     "name": "stdout",
     "output_type": "stream",
     "text": [
      "Interactions:\n",
      "(15961918, 5)\n"
     ]
    },
    {
     "data": {
      "text/html": [
       "<div><style>\n",
       ".dataframe > thead > tr,\n",
       ".dataframe > tbody > tr {\n",
       "  text-align: right;\n",
       "  white-space: pre-wrap;\n",
       "}\n",
       "</style>\n",
       "<small>shape: (5, 5)</small><table border=\"1\" class=\"dataframe\"><thead><tr><th>user_id</th><th>item_id</th><th>is_read</th><th>rating</th><th>date_added</th></tr><tr><td>str</td><td>i64</td><td>bool</td><td>i64</td><td>datetime[μs]</td></tr></thead><tbody><tr><td>&quot;90998a29029ecb1fbeedaff2b71752…</td><td>8473</td><td>false</td><td>0</td><td>2014-05-15 12:51:13</td></tr><tr><td>&quot;90998a29029ecb1fbeedaff2b71752…</td><td>20060</td><td>false</td><td>0</td><td>2014-05-15 12:51:14</td></tr><tr><td>&quot;90998a29029ecb1fbeedaff2b71752…</td><td>8354</td><td>false</td><td>0</td><td>2014-05-15 12:51:17</td></tr><tr><td>&quot;90998a29029ecb1fbeedaff2b71752…</td><td>11575</td><td>false</td><td>0</td><td>2014-05-15 12:51:19</td></tr><tr><td>&quot;90998a29029ecb1fbeedaff2b71752…</td><td>11861</td><td>false</td><td>0</td><td>2014-05-15 12:51:20</td></tr></tbody></table></div>"
      ],
      "text/plain": [
       "shape: (5, 5)\n",
       "┌─────────────────────────────────┬─────────┬─────────┬────────┬─────────────────────┐\n",
       "│ user_id                         ┆ item_id ┆ is_read ┆ rating ┆ date_added          │\n",
       "│ ---                             ┆ ---     ┆ ---     ┆ ---    ┆ ---                 │\n",
       "│ str                             ┆ i64     ┆ bool    ┆ i64    ┆ datetime[μs]        │\n",
       "╞═════════════════════════════════╪═════════╪═════════╪════════╪═════════════════════╡\n",
       "│ 90998a29029ecb1fbeedaff2b71752… ┆ 8473    ┆ false   ┆ 0      ┆ 2014-05-15 12:51:13 │\n",
       "│ 90998a29029ecb1fbeedaff2b71752… ┆ 20060   ┆ false   ┆ 0      ┆ 2014-05-15 12:51:14 │\n",
       "│ 90998a29029ecb1fbeedaff2b71752… ┆ 8354    ┆ false   ┆ 0      ┆ 2014-05-15 12:51:17 │\n",
       "│ 90998a29029ecb1fbeedaff2b71752… ┆ 11575   ┆ false   ┆ 0      ┆ 2014-05-15 12:51:19 │\n",
       "│ 90998a29029ecb1fbeedaff2b71752… ┆ 11861   ┆ false   ┆ 0      ┆ 2014-05-15 12:51:20 │\n",
       "└─────────────────────────────────┴─────────┴─────────┴────────┴─────────────────────┘"
      ]
     },
     "metadata": {},
     "output_type": "display_data"
    }
   ],
   "source": [
    "# deduplication logic\n",
    "books = (\n",
    "    books\n",
    "    .join(\n",
    "        (\n",
    "            books\n",
    "            .select(\"preprocessed_title\")\n",
    "            .unique()\n",
    "            .with_columns(\n",
    "                item_id=pl.int_range(0, pl.len())\n",
    "            )\n",
    "        ),\n",
    "        on=\"preprocessed_title\",\n",
    "        how=\"left\"\n",
    "    )\n",
    "    .select(\"item_id\", \"book_id\", \"series\", \"tags\", \"title\", \"description\", \"url\", \"image_url\", \"authors\")\n",
    ")\n",
    "interactions = interactions.join(\n",
    "    books.select(\"item_id\", \"book_id\").unique(), on=\"book_id\", how=\"inner\"\n",
    ").drop(\"book_id\")\n",
    "\n",
    "books = (\n",
    "    books\n",
    "    .sort(pl.col(\"description\").str.len_chars(), descending=True)\n",
    "    .group_by(\"item_id\").agg(\n",
    "        pl.col(\"series\").explode().unique(),\n",
    "        pl.col(\"tags\").explode().unique(),\n",
    "        pl.col(\"title\").first(),\n",
    "        pl.col(\"description\").first(),\n",
    "        pl.col(\"url\").first(),\n",
    "        pl.col(\"image_url\").filter(~pl.col(\"image_url\").str.contains(\"nophoto\")).first().fill_null(pl.col(\"image_url\").first()),\n",
    "        pl.col(\"authors\").explode().unique()\n",
    "    )\n",
    ")\n",
    "print(\"Books:\")\n",
    "print(books.shape)\n",
    "display(books.head())\n",
    "\n",
    "interactions = (\n",
    "    interactions\n",
    "    .with_columns(\n",
    "        date_added=pl.col(\"date_added\").str.strptime(pl.Datetime, \"%a %b %d %H:%M:%S %z %Y\").dt.replace_time_zone(None)\n",
    "    )\n",
    "    .group_by(\"user_id\", \"item_id\").agg(\n",
    "        pl.col(\"is_read\").max(),\n",
    "        pl.col(\"rating\").max(),\n",
    "        pl.col(\"date_added\").min(),\n",
    "    )\n",
    ")\n",
    "\n",
    "# filtering users with too few interactions\n",
    "k_core = 2\n",
    "interactions = interactions.join(\n",
    "    interactions.group_by(\"user_id\").agg(pl.col(\"item_id\").n_unique().alias(\"unique_item_count\"))\n",
    "    .filter(pl.col(\"unique_item_count\") > k_core).select(\"user_id\"),\n",
    "    on=\"user_id\", how=\"inner\"\n",
    ")\n",
    "\n",
    "# reducing overall dataset so that it weights less\n",
    "interactions = interactions.sort(\"date_added\")[-int(interactions.shape[0] * 0.6):]\n",
    "\n",
    "print(\"Interactions:\")\n",
    "print(interactions.shape)\n",
    "display(interactions.head())"
   ]
  },
  {
   "cell_type": "code",
   "execution_count": 95,
   "id": "684c40f6-bcd6-472a-b3ee-96106abbdfb2",
   "metadata": {},
   "outputs": [],
   "source": [
    "# sanity check\n",
    "assert books.shape[0] == books[\"item_id\"].n_unique()"
   ]
  },
  {
   "cell_type": "markdown",
   "id": "895f08a6-9802-4a1d-afbe-fe18751225ce",
   "metadata": {},
   "source": [
    "# Разбиваем на обучающую и тестовую выборки"
   ]
  },
  {
   "cell_type": "code",
   "execution_count": 96,
   "id": "8203bd2b-088b-4b61-b359-bccd20cb8603",
   "metadata": {},
   "outputs": [
    {
     "name": "stdout",
     "output_type": "stream",
     "text": [
      "2016-12-10 02:46:45\n",
      "Train:\n",
      "(11971437, 5)\n",
      "Test:\n",
      "(3134593, 2)\n",
      "Test percentage: 0.21\n"
     ]
    }
   ],
   "source": [
    "thresholding_dttm = dt.strptime(\n",
    "    interactions[\"date_added\"].describe().filter(pl.col(\"statistic\") == \"75%\")[\"value\"].item(), \n",
    "    \"%Y-%m-%d %H:%M:%S\"\n",
    ")\n",
    "print(thresholding_dttm)\n",
    "\n",
    "train_interactions = interactions.filter(pl.col(\"date_added\") < thresholding_dttm)\n",
    "train_users = set(train_interactions[\"user_id\"].to_list())\n",
    "print(\"Train:\")\n",
    "print(train_interactions.shape)\n",
    "\n",
    "test_interactions = (\n",
    "    interactions\n",
    "    .filter(\n",
    "        (pl.col(\"date_added\") >= thresholding_dttm) &\n",
    "        (pl.col(\"user_id\").is_in(train_users))  # keeping only warm users for simplicity\n",
    "    )\n",
    "    .sort(\"user_id\", \"rating\", \"is_read\", descending=True)  # preparing test - sorting by relevance, better is higher\n",
    "    .select(\"user_id\", \"item_id\")  # the future is unknown...\n",
    ")\n",
    "print(\"Test:\")\n",
    "print(test_interactions.shape)\n",
    "\n",
    "print(f\"Test percentage: {test_interactions.shape[0] / (test_interactions.shape[0] + train_interactions.shape[0]):.2f}\")"
   ]
  },
  {
   "cell_type": "code",
   "execution_count": 97,
   "id": "adfb4155-690e-48b7-b6a0-f80f3a14bdd2",
   "metadata": {},
   "outputs": [],
   "source": [
    "all_books = set(books[\"item_id\"].to_list())\n",
    "train_books = set(train_interactions[\"item_id\"].to_list())\n",
    "test_books = set(test_interactions[\"item_id\"].to_list())\n",
    "test_books_warm = test_books & train_books\n",
    "test_books_cold = test_books - train_books"
   ]
  },
  {
   "cell_type": "code",
   "execution_count": 98,
   "id": "5a6b5b22-387b-4c02-8eb8-f069be1326bf",
   "metadata": {},
   "outputs": [
    {
     "name": "stdout",
     "output_type": "stream",
     "text": [
      "0\n",
      "0\n",
      "0\n"
     ]
    }
   ],
   "source": [
    "# sanity check\n",
    "print(len(train_books - all_books))\n",
    "print(len(test_books - all_books))\n",
    "print(len(test_books_warm & test_books_cold))"
   ]
  },
  {
   "cell_type": "code",
   "execution_count": 99,
   "id": "22234377-c7e2-492b-8be3-c7a803486ccf",
   "metadata": {},
   "outputs": [
    {
     "name": "stdout",
     "output_type": "stream",
     "text": [
      "N books in train: 31300\n",
      "N warm books in test: 25592\n",
      "N cold books in test: 1775\n",
      "N potentially available books: 34322\n"
     ]
    }
   ],
   "source": [
    "print(f\"N books in train: {len(train_books)}\")\n",
    "print(f\"N warm books in test: {len(test_books & train_books)}\")\n",
    "print(f\"N cold books in test: {len(test_books - train_books)}\")\n",
    "print(f\"N potentially available books: {len(all_books)}\")"
   ]
  },
  {
   "cell_type": "code",
   "execution_count": 100,
   "id": "0761ed2e-f86b-40b9-aca2-e7f96e4c1cd4",
   "metadata": {},
   "outputs": [
    {
     "name": "stdout",
     "output_type": "stream",
     "text": [
      "N 'warm' interactions in test: 2947221\n",
      "N 'cold' interactions in test: 187372\n",
      "'Cold' interactions percentage in test: 0.06\n"
     ]
    }
   ],
   "source": [
    "test_interactions_warm = test_interactions.filter(pl.col('item_id').is_in(test_books_warm))\n",
    "test_interactions_cold = test_interactions.filter(pl.col('item_id').is_in(test_books_cold))\n",
    "print(f\"N 'warm' interactions in test: {test_interactions_warm.shape[0]}\")\n",
    "print(f\"N 'cold' interactions in test: {test_interactions_cold.shape[0]}\")\n",
    "print(f\"'Cold' interactions percentage in test: {test_interactions_cold.shape[0] / (test_interactions_warm.shape[0] + test_interactions_cold.shape[0]):.2f}\")"
   ]
  },
  {
   "cell_type": "code",
   "execution_count": 101,
   "id": "65ffd4ae-6b83-4b29-a801-238bbd3ed9bf",
   "metadata": {},
   "outputs": [
    {
     "name": "stdout",
     "output_type": "stream",
     "text": [
      "N users in train: 349719\n",
      "N users in test: 185828\n"
     ]
    }
   ],
   "source": [
    "print(f\"N users in train: {train_interactions['user_id'].n_unique()}\")\n",
    "print(f\"N users in test: {test_interactions['user_id'].n_unique()}\")"
   ]
  },
  {
   "cell_type": "code",
   "execution_count": 102,
   "id": "651f18dc-179e-46cb-8794-c6fb3a48648a",
   "metadata": {},
   "outputs": [],
   "source": [
    "# sanity check\n",
    "assert len(set(test_interactions[\"user_id\"].to_list()) - set(train_interactions[\"user_id\"].to_list())) == 0"
   ]
  },
  {
   "cell_type": "markdown",
   "id": "b0f3c93a-957d-437d-92e1-95976716bdaa",
   "metadata": {},
   "source": [
    "# Сохраняем данные"
   ]
  },
  {
   "cell_type": "code",
   "execution_count": 103,
   "id": "f77bf063-a938-4ab2-95f6-143f471ebb40",
   "metadata": {},
   "outputs": [],
   "source": [
    "!mkdir -p data"
   ]
  },
  {
   "cell_type": "code",
   "execution_count": 104,
   "id": "273920a2-4e00-4f37-995f-6a974c7ecdc8",
   "metadata": {},
   "outputs": [
    {
     "name": "stdout",
     "output_type": "stream",
     "text": [
      "CPU times: user 7.93 s, sys: 392 ms, total: 8.33 s\n",
      "Wall time: 5.51 s\n"
     ]
    }
   ],
   "source": [
    "%%time\n",
    "\n",
    "data_folder = \"data/\"\n",
    "\n",
    "train_interactions.sort(\"date_added\", \"user_id\", \"item_id\").write_parquet(data_folder + \"train.pq\")\n",
    "test_interactions.sort(\"user_id\", \"item_id\").write_parquet(data_folder + \"test.pq\")\n",
    "books.sort(\"item_id\").write_parquet(data_folder + \"books.pq\")"
   ]
  },
  {
   "cell_type": "code",
   "execution_count": null,
   "id": "fd5bd690-6ba2-4dea-b2bc-338552686a13",
   "metadata": {},
   "outputs": [],
   "source": []
  }
 ],
 "metadata": {
  "kernelspec": {
   "display_name": "Python 3 (ipykernel)",
   "language": "python",
   "name": "local/python3"
  },
  "language_info": {
   "codemirror_mode": {
    "name": "ipython",
    "version": 3
   },
   "file_extension": ".py",
   "mimetype": "text/x-python",
   "name": "python",
   "nbconvert_exporter": "python",
   "pygments_lexer": "ipython3",
   "version": "3.10.18"
  }
 },
 "nbformat": 4,
 "nbformat_minor": 5
}
